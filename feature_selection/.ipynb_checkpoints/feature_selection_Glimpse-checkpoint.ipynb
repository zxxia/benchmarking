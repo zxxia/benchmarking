{
 "cells": [
  {
   "cell_type": "code",
   "execution_count": null,
   "metadata": {},
   "outputs": [],
   "source": [
    "''' Identify important content-level video features for each pipeline.\n",
    "Challenge: 1. many features are highly correlated. how to reduce redundancy.\n",
    "           2. identify \"all\" important features.\n",
    "           \n",
    "High-level description of our feature selection (two steps):\n",
    "            1. Remove highly correlated features.\n",
    "            2. Identify important features using different kinds of feature selection methods.\n",
    "'''"
   ]
  },
  {
   "cell_type": "code",
   "execution_count": 2,
   "metadata": {},
   "outputs": [],
   "source": [
    "import os\n",
    "from collections import defaultdict\n",
    "import glob\n",
    "import sys\n",
    "import numpy as np\n",
    "import pandas as pd\n",
    "from sklearn.model_selection import train_test_split\n",
    "from matplotlib import pyplot as plt\n",
    "from sklearn.svm import SVR\n",
    "from sklearn import preprocessing\n",
    "from sklearn.feature_selection import SelectFromModel, SelectKBest, mutual_info_regression\n",
    "from sklearn.ensemble import ExtraTreesClassifier, RandomForestRegressor\n",
    "from sklearn.linear_model import (LinearRegression, Ridge, \n",
    "\t\t\t\t\t\t\t\t  Lasso)\n",
    "from sklearn.feature_selection import RFE, f_regression\n",
    "from sklearn.preprocessing import MinMaxScaler\n",
    "from minepy import MINE\n",
    "import operator\n",
    "from mpl_toolkits.mplot3d import Axes3D\n",
    "sys.path.append('../')\n",
    "from pipeline_performance_loader import Parser, initialization, read_feature\n",
    "from sklearn.base import BaseEstimator, TransformerMixin\n",
    "from VIF import ReduceVIF\n",
    "import seaborn as sns\n",
    "from scipy.stats import pearsonr\n",
    "from matplotlib import pyplot"
   ]
  },
  {
   "cell_type": "code",
   "execution_count": 3,
   "metadata": {},
   "outputs": [],
   "source": [
    "# Create our function which stores the feature rankings to the ranks dictionary\n",
    "def ranking(ranks, names, order=1):\n",
    "    minmax = MinMaxScaler()\n",
    "    ranks = minmax.fit_transform(order*np.array([ranks]).T).T[0]\n",
    "    ranks = map(lambda x: round(x,2), ranks)\n",
    "    return dict(zip(names, ranks))\n",
    "\n",
    "\n",
    "def rank_to_dict(ranks, names, order=1):\n",
    "#     minmax = MinMaxScaler()\n",
    "#     ranks = minmax.fit_transform(order*np.array([ranks]).T).T[0]\n",
    "    ranks = map(lambda x: round(x, 2), ranks)\n",
    "    return dict(zip(names, ranks ))\n",
    "\n",
    "def topK_index(data, K):\n",
    "    indices = data.argsort()[-1*K:][::-1]\n",
    "    return indices, data[indices]"
   ]
  },
  {
   "cell_type": "code",
   "execution_count": 4,
   "metadata": {},
   "outputs": [],
   "source": [
    "def feature_filtering(df, filter_method='pearson'):\n",
    "\t# remove correlated features\n",
    "\tif filter_method == 'VIF':\n",
    "\t\t# filter \n",
    "\t\ttransformer = ReduceVIF(thresh=5)\n",
    "\t\tdf_filtered = transformer.fit_transform(df)\n",
    "\t\treturn df_filtered\n",
    "\telif filter_method == 'pearson':\n",
    "\t\t# filter feateures with pearson correlation higher than a thresh\n",
    "\t\tcorr_matrix = df.corr()\n",
    "\t\tcorrelated_features = set()\n",
    "\t\tthresh = 0.8\n",
    "\t\tfor i in range(len(corr_matrix.columns)):\n",
    "\t\t\tfor j in range(i):\n",
    "\t\t\t\tif abs(corr_matrix.iloc[i, j]) > thresh:\n",
    "\t\t\t\t\tcolname = corr_matrix.columns[i]\n",
    "\t\t\t\t\tcorrelated_features.add(colname)\n",
    "\t\tdf_filtered = df.drop(correlated_features, axis=1)\n",
    "\t\treturn df_filtered\n",
    "\n",
    "\t\n",
    "\telse:\n",
    "\t\tprint('Filter method {} does not exist.'.format(filter_method))\n",
    "\t\treturn df"
   ]
  },
  {
   "cell_type": "code",
   "execution_count": 5,
   "metadata": {},
   "outputs": [],
   "source": [
    "# Load pipeline performance\n",
    "all_feature_names, moving, video_to_delete, selected_video, glimpse_video_to_delete = initialization()\n",
    "path = '/Users/zhujunxiao/Desktop/benchmarking/vldb/data/'\n",
    "feature_file = path + 'allvideo_features_long.csv'\n",
    "features = read_feature(feature_file)\n",
    "glimpse_video_to_delete = []\n",
    "glimpse_path = path + 'glimpse/glimpse_frame_select_results/'\n",
    "glimpse_parser = Parser('glimpse', \n",
    "                         glimpse_path,\n",
    "                         glimpse_video_to_delete,\n",
    "                         moving)\n",
    "glimpse_perf, moving_or_not = glimpse_parser.load_perf()\n",
    "\n",
    "target_perf = glimpse_perf\n"
   ]
  },
  {
   "cell_type": "code",
   "execution_count": 17,
   "metadata": {
    "scrolled": false
   },
   "outputs": [
    {
     "name": "stdout",
     "output_type": "stream",
     "text": [
      "Preprocessing starts (normalization, train_test_split)......\n",
      "Preprocessing done!\n"
     ]
    },
    {
     "data": {
      "image/png": "[encoded data removed]",
      "text/plain": [
       "<Figure size 432x288 with 2 Axes>"
      ]
     },
     "metadata": {
      "needs_background": "light"
     },
     "output_type": "display_data"
    }
   ],
   "source": [
    "\n",
    "X = []\n",
    "y = []\n",
    "feature1 = []\n",
    "feature2 = []\n",
    "perf = []\n",
    "X1 = []\n",
    "X2 = []\n",
    "y1 = []\n",
    "y2 = []\n",
    "for key in sorted(target_perf.keys()):\n",
    "    if key not in features:\n",
    "        continue\n",
    "\n",
    "    # data cleaning\n",
    "    if features[key][all_feature_names.index('object_cn_avg')] <= 0:\n",
    "        continue\n",
    "    if features[key][all_feature_names.index('velocity_avg')] < 1:\n",
    "        continue\n",
    "    if features[key][all_feature_names.index('object_size_avg')] <= 0:\n",
    "        continue\n",
    "    thresh1 = 0.05\t\t\n",
    "    if target_perf[key][1] < 0.9:\n",
    "        continue\n",
    "        \n",
    "    #*********only for Glimpse*********#  \n",
    "    # glimpse does not work well for moving videos, so has no correlation with percentage w/ objects\n",
    "#     if moving_or_not[key] == 1:\n",
    "#         continue \n",
    "        \n",
    "        \n",
    "    if features[key][all_feature_names.index('velocity_avg')] > 2: # or features[key][all_feature_names.index('velocity_avg')] > 1.3:\n",
    "        X1.append(features[key])\n",
    "        y1.append(target_perf[key][0])\n",
    "        continue\n",
    "    else:\n",
    "        X2.append(features[key])\n",
    "        y2.append(target_perf[key][0])\n",
    "#     if features[key][all_feature_names.index('percentage')] > 0.5:\n",
    "#         continue\n",
    "#     if features[key][all_feature_names.index('object_size_avg')] >= 0.030:\n",
    "#         print(key)\n",
    "#         continue\n",
    "    #*********************************#\n",
    "    feature1.append(features[key][all_feature_names.index('percentage')])\n",
    "    feature2.append(features[key][all_feature_names.index('velocity_avg')])\n",
    "    perf.append(target_perf[key][0])\n",
    "    \n",
    "\n",
    "    \n",
    "    X.append(features[key])\n",
    "    y.append(target_perf[key][0])\n",
    "\n",
    "tmp = np.random.choice(range(len(X2)), len(X1)).tolist()\n",
    "X2_tmp = []\n",
    "for index in tmp:\n",
    "    X2_tmp.append(X2[index])\n",
    "y2_tmp = np.random.choice(y2, len(y1)).tolist()\n",
    "\n",
    "X_all = X1 + X2_tmp\n",
    "y_all = y1 + y2_tmp\n",
    "# plt.scatter(feature1, feature2, c=perf)  \n",
    "plt.scatter([x[all_feature_names.index('percentage')] for x in X_all], [x[all_feature_names.index('velocity_avg')] for x in X_all], c=y_all)\n",
    "plt.colorbar()\n",
    "df = pd.DataFrame(X, columns=all_feature_names)\n",
    "df['perf'] = y\n",
    "# for name in all_feature_names:\n",
    "#     plt.scatter(df[name], df['perf'])\n",
    "#     print(pearsonr(df[name], df['perf'])) \n",
    "#     plt.title(name)\n",
    "#     plt.show()\n",
    "# preprocessing: standardization, and train test split\n",
    "print('Preprocessing starts (normalization, train_test_split)......')\n",
    "scaler = preprocessing.StandardScaler().fit(X)\n",
    "X_scaled = scaler.transform(X)  \n",
    "X_train, X_test, y_train, y_test = train_test_split(X_scaled, y, \n",
    "                                    test_size=0.2, random_state=0) \n",
    "\n",
    "print('Preprocessing done!')"
   ]
  },
  {
   "cell_type": "code",
   "execution_count": 18,
   "metadata": {
    "scrolled": true
   },
   "outputs": [
    {
     "name": "stdout",
     "output_type": "stream",
     "text": [
      "(0.3780333760068037, 0.00020299765049975086)\n"
     ]
    }
   ],
   "source": [
    "# df = pd.DataFrame(X, columns=all_feature_names)\n",
    "# df['perf'] = y\n",
    "\n",
    "print(pearsonr([x[all_feature_names.index('velocity_avg')] for x in X_all], y_all))\n",
    "# for name in names:\n",
    "    \n",
    "# plt.scatter(df['percentage'], df['perf'])\n",
    "\n",
    "# plt.show()\n",
    "# features = df.drop(['perf'], axis=1)"
   ]
  },
  {
   "cell_type": "code",
   "execution_count": null,
   "metadata": {},
   "outputs": [],
   "source": [
    "# remove correlated features, using two methods\n",
    "df = pd.DataFrame(X, columns=all_feature_names)\n",
    "df_filtered_pearson = feature_filtering(df)\n",
    "print('After pearson correlation filtering, remaining features:', df_filtered_pearson.columns)\n",
    "df_filtered_vif = feature_filtering(df, filter_method='VIF')\n",
    "print('After VIF filtering, remaining features:', df_filtered_vif.columns)\n",
    "\n",
    "# visualize correlation matrix before and after filtering\n",
    "df['perf'] = y\n",
    "df_filtered_pearson['perf'] = y\n",
    "df_filtered_vif['perf'] = y\n",
    "\n",
    "# f,(ax1,ax2,ax3) = plt.subplots(1,3,sharey=True)\n",
    "cor = df.corr()\n",
    "sns.heatmap(cor, vmin=-1, vmax=1, center=0)\n",
    "plt.title('Correlation matrix before feature filtering.')\n",
    "plt.show()\n",
    "cor = df_filtered_vif.corr()\n",
    "sns.heatmap(cor, vmin=-1, vmax=1, center=0)\n",
    "plt.title('Correlation matrix after VIF filtering.')\n",
    "plt.show()\n",
    "cor = df_filtered_pearson.corr()\n",
    "sns.heatmap(cor, vmin=-1, vmax=1, center=0)\n",
    "plt.title('Correlation matrix before feature filtering.')\n",
    "plt.show()\t\n"
   ]
  },
  {
   "cell_type": "code",
   "execution_count": null,
   "metadata": {},
   "outputs": [],
   "source": [
    "# Implement multiple types of feature selection methods. And compare their selected results.\n",
    "\n",
    "def select_good_features(X, Y, names, n_features_to_select=5):\n",
    "    ranks = {}\n",
    "    lr = LinearRegression(normalize=True)\n",
    "    lr.fit(X, Y)\n",
    "    ranks[\"Linear\"] = rank_to_dict(np.abs(lr.coef_), names)\n",
    "\n",
    "    ridge = Ridge(alpha=7)\n",
    "    ridge.fit(X, Y)\n",
    "    ranks[\"Ridge\"] = rank_to_dict(np.abs(ridge.coef_), names)\n",
    "\n",
    "\n",
    "    lasso = Lasso(alpha=.05)\n",
    "    lasso.fit(X, Y)\n",
    "    ranks[\"Lasso\"] = rank_to_dict(np.abs(lasso.coef_), names)\n",
    "\n",
    "\n",
    "    #stop the search when 5 features are left (they will get equal scores)\n",
    "    rfe = RFE(lr, n_features_to_select=5)\n",
    "    rfe.fit(X,Y)\n",
    "    ranks[\"RFE\"] = rank_to_dict(rfe.ranking_, names, order=-1)\n",
    "\n",
    "    rf = RandomForestRegressor()\n",
    "    rf.fit(X,Y)\n",
    "    ranks[\"RF\"] = rank_to_dict(rf.feature_importances_, names)\n",
    "\n",
    "\n",
    "    f, pval  = f_regression(X, Y, center=True)\n",
    "    ranks[\"Corr.\"] = rank_to_dict(f, names)\n",
    "\n",
    "    mine = MINE()\n",
    "    mic_scores = []\n",
    "    for i in range(X.shape[1]):\n",
    "        mine.compute_score(X[:,i], Y)\n",
    "        m = mine.mic()\n",
    "        mic_scores.append(m)\n",
    "\n",
    "    ranks[\"MIC\"] = rank_to_dict(mic_scores, names) \n",
    "    r = {}\n",
    "    for name in names:\n",
    "        r[name] = round(np.mean([ranks[method][name] \n",
    "                                 for method in ranks.keys()]), 2)\n",
    "\n",
    "    methods = sorted(ranks.keys())\n",
    "    ranks[\"Mean\"] = r\n",
    "    methods.append(\"Mean\")\n",
    "\n",
    "  \n",
    "\n",
    "    # rank = [np.abs(x) for x in lr.feature_importances_]\n",
    "    # indicies = topK_index(np.asarray(rank), 3)\n",
    "\n",
    "    # for i in indicies[0]:\n",
    "    # \tprint(all_feature_names[i])\n",
    "\n",
    "    return methods, ranks\n",
    "\n",
    "\n",
    "\n"
   ]
  },
  {
   "cell_type": "code",
   "execution_count": null,
   "metadata": {},
   "outputs": [],
   "source": []
  },
  {
   "cell_type": "code",
   "execution_count": null,
   "metadata": {},
   "outputs": [],
   "source": [
    "features = df.drop(['perf'], axis=1)\n",
    "X = features.as_matrix()\n",
    "Y = df['perf']\n",
    "names = features.columns.values\n",
    "print('The shape of feature matrix:', X.shape)\n",
    "# print('all feature names:', names)\n",
    "methods, ranks = select_good_features(X, Y, names, n_features_to_select=5)\n"
   ]
  },
  {
   "cell_type": "code",
   "execution_count": null,
   "metadata": {},
   "outputs": [],
   "source": [
    "print(\"%30s\\t%s\" % ('Feature name', \"\\t\".join(methods)))\n",
    "for name in names:\n",
    "    print(\"%30s\\t%s\" % (name, \"\\t\".join(map(str, \n",
    "                         [ranks[method][name] for method in methods])))) "
   ]
  },
  {
   "cell_type": "code",
   "execution_count": null,
   "metadata": {},
   "outputs": [],
   "source": [
    "for method in methods:\n",
    "    new_rank = {k: v for k, v in sorted(ranks[method].items(), key=lambda item: item[1], reverse=True)}\n",
    "    rank_iterator = iter(new_rank)\n",
    "    print('Selected features of method {}:'.format(method))\n",
    "    for i in range(3):\n",
    "        selected_feature = next(rank_iterator)\n",
    "        feature_importance = new_rank[selected_feature]\n",
    "        print(selected_feature, feature_importance)\n"
   ]
  },
  {
   "cell_type": "code",
   "execution_count": null,
   "metadata": {},
   "outputs": [],
   "source": [
    "features = df_filtered_pearson.drop(['perf'], axis=1)\n",
    "X = features.as_matrix()\n",
    "Y = df_filtered_pearson['perf']\n",
    "names = features.columns.values\n",
    "print('The shape of feature matrix:', X.shape)\n",
    "print('all feature names:', names)\n",
    "methods, ranks = select_good_features(X, Y, names, n_features_to_select=5)\n"
   ]
  },
  {
   "cell_type": "code",
   "execution_count": null,
   "metadata": {},
   "outputs": [],
   "source": [
    "print(\"%30s\\t%s\" % ('Feature name', \"\\t\".join(methods)))\n",
    "for name in names:\n",
    "    print(\"%30s\\t%s\" % (name, \"\\t\".join(map(str, \n",
    "                         [ranks[method][name] for method in methods])))) "
   ]
  },
  {
   "cell_type": "code",
   "execution_count": null,
   "metadata": {},
   "outputs": [],
   "source": [
    "for method in methods:\n",
    "    new_rank = {k: v for k, v in sorted(ranks[method].items(), key=lambda item: item[1], reverse=True)}\n",
    "    rank_iterator = iter(new_rank)\n",
    "    print('Selected features of method {}:'.format(method))\n",
    "    for i in range(3):\n",
    "        selected_feature = next(rank_iterator)\n",
    "        feature_importance = new_rank[selected_feature]\n",
    "        print(selected_feature, feature_importance)"
   ]
  },
  {
   "cell_type": "code",
   "execution_count": null,
   "metadata": {
    "scrolled": true
   },
   "outputs": [],
   "source": [
    "features = df_filtered_vif.drop(['perf'], axis=1)\n",
    "X = features.as_matrix()\n",
    "Y = df_filtered_vif['perf']\n",
    "names = features.columns.values\n",
    "print('The shape of feature matrix:', X.shape)\n",
    "print('all feature names:', names)\n",
    "methods, ranks = select_good_features(X, Y, names, n_features_to_select=5)\n"
   ]
  },
  {
   "cell_type": "code",
   "execution_count": null,
   "metadata": {},
   "outputs": [],
   "source": [
    "print(\"%30s\\t%s\" % ('Feature name', \"\\t\".join(methods)))\n",
    "for name in names:\n",
    "    print(\"%30s\\t%s\" % (name, \"\\t\".join(map(str, \n",
    "                         [ranks[method][name] for method in methods])))) "
   ]
  },
  {
   "cell_type": "code",
   "execution_count": null,
   "metadata": {
    "scrolled": true
   },
   "outputs": [],
   "source": [
    "for method in methods:\n",
    "    new_rank = {k: v for k, v in sorted(ranks[method].items(), key=lambda item: item[1], reverse=True)}\n",
    "    rank_iterator = iter(new_rank)\n",
    "    print('Selected features of method {}:'.format(method))\n",
    "    for i in range(3):\n",
    "        selected_feature = next(rank_iterator)\n",
    "        feature_importance = new_rank[selected_feature]\n",
    "        print(selected_feature, feature_importance)"
   ]
  },
  {
   "cell_type": "code",
   "execution_count": null,
   "metadata": {},
   "outputs": [],
   "source": [
    "from scipy.stats import pearsonr\n",
    "from matplotlib import pyplot\n",
    "\n",
    "plt.scatter(df['percentage'], df['perf'])\n",
    "plt.show()\n",
    "features = df.drop(['perf'], axis=1)\n",
    "X = features.as_matrix()\n",
    "Y = df['perf']\n",
    "names = features.columns.values\n",
    "score = mutual_info_regression(X, Y)\n",
    "rank = [sorted(score, reverse=True).index(x) for x in score]\n",
    "\n",
    "names = features.columns.values\n",
    "correlation_thresh = 0.3\n",
    "correlated_features = []\n",
    "for name in names:\n",
    "    (r, p) = pearsonr(df[name], df['perf'])\n",
    "    if np.abs(r) > correlation_thresh:\n",
    "        correlated_features.append((name,r))\n",
    "correlated_features.sort(key=lambda x: x[1], reverse=True)\n",
    "print(correlated_features)\n",
    "selected_features = [correlated_features[0][0]]\n",
    "for feature in correlated_features[1:]:\n",
    "    (r, p) = pearsonr(df[feature[0]], df[correlated_features[0][0]])\n",
    "    if np.abs(r) <= 0.8:\n",
    "        selected_features.append(feature[0])\n",
    "print('Final selected feature:', selected_features)"
   ]
  },
  {
   "cell_type": "code",
   "execution_count": null,
   "metadata": {},
   "outputs": [],
   "source": []
  }
 ],
 "metadata": {
  "kernelspec": {
   "display_name": "Python 3",
   "language": "python",
   "name": "python3"
  },
  "language_info": {
   "codemirror_mode": {
    "name": "ipython",
    "version": 3
   },
   "file_extension": ".py",
   "mimetype": "text/x-python",
   "name": "python",
   "nbconvert_exporter": "python",
   "pygments_lexer": "ipython3",
   "version": "3.7.6"
  }
 },
 "nbformat": 4,
 "nbformat_minor": 2
}
