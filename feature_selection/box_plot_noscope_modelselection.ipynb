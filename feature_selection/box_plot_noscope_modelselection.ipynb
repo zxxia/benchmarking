{
 "cells": [
  {
   "cell_type": "code",
   "execution_count": 1,
   "metadata": {},
   "outputs": [],
   "source": [
    "from pipeline_performance_loader import initialization, read_feature\n",
    "import glob\n",
    "from collections import defaultdict\n",
    "import numpy as np\n",
    "import math\n",
    "from matplotlib import pyplot as plt"
   ]
  },
  {
   "cell_type": "code",
   "execution_count": 2,
   "metadata": {},
   "outputs": [],
   "source": [
    "def compute_percentiel(data):\n",
    "\tpercentile = []\n",
    "\tfor i in [5, 25, 50, 75, 95]:\n",
    "\t\tpercentile.append(np.percentile(data, i))\n",
    "\n",
    "\treturn percentile\n",
    "\n",
    "\n",
    "def bucketize_feature(feature, perf, num_of_bucket=4):\n",
    "\tfeature_range = (min(feature), max(feature))\n",
    "\tfeatuer_list = []\n",
    "\tperf_list = []\n",
    "\tfeature_bins = np.logspace(math.log10(feature_range[0]), math.log10(feature_range[1]), num=num_of_bucket+1)\n",
    "\tperf_bucket = defaultdict(list)\n",
    "\tfor i in range(len(feature)):\n",
    "\t\tcurrent_feature = feature[i]\n",
    "\t\tprint(current_feature)\n",
    "\t\tif current_feature >= feature_bins[-1]:\n",
    "\t\t\tcurrent_bin = len(feature_bins) - 1 \n",
    "\t\telse:\n",
    "\t\t\tcurrent_bin = next(x[0] for x in enumerate(feature_bins) \n",
    "\t\t\t\t\t\t\t\tif x[1] >= current_feature)\n",
    "\n",
    "\t\tperf_bucket[feature_bins[current_bin]].append(perf[i])\n",
    "\n",
    "\n",
    "\treturn perf_bucket"
   ]
  },
  {
   "cell_type": "code",
   "execution_count": 3,
   "metadata": {},
   "outputs": [
    {
     "name": "stdout",
     "output_type": "stream",
     "text": [
      "driving2_3,0.0,0.0,0,0.0,0.0,0.0,-3.0,0.0,0.0,0.0,0.0,0.0,0.0,nan,0.0,0.0,0.0,0.0,0.0,0.0,0.0,0.0,0.0,0.0,0.0,0.0,0.0,0.0,0.0,0.017777777777777778,0,0.03079506172839507,0.17548521797688565,10.38655522428052,109.89372638584705,0.03079506172839507,0.0,0.0,0.0,0.0,0.0,2.252728336819822,0.0,0.0,0.0,0.0,0.0,0.0,0.0,0.0,0.0,0.0,0.0,0.0,0.0,0.0,0.0,0.0,0.0,0.0,0.0,0.0,-3.0,0.0,0.0,0.0,0.0,0.0,0.0,nan,0.0,0.0,0\n",
      "\n",
      "driving2_8,0.0,0.0,0,0.0,0.0,0.0,-3.0,0.0,0.0,0.0,0.0,0.0,0.0,nan,0.0,0.0,0.0,0.0,0.0,0.0,0.0,0.0,0.0,0.0,0.0,0.0,0.0,0.0,0.0,0.0,0,0.0,0.0,0.0,-3.0,0.0,0.0,0.0,0.0,0.0,0.0,nan,0.0,0.0,0.0,0.0,0.0,0.0,0.0,0.0,0.0,0.0,0.0,0.0,0.0,0.0,0.0,0.0,0.0,0.0,0.0,0.0,-3.0,0.0,0.0,0.0,0.0,0.0,0.0,nan,0.0,0.0,0\n",
      "\n",
      "driving2_27,0.0,0.0,0,0.0,0.0,0.0,-3.0,0.0,0.0,0.0,0.0,0.0,0.0,nan,0.0,0.0,0.0,0.0,0.0,0.0,0.0,0.0,0.0,0.0,0.0,0.0,0.0,0.0,0.0,0.0,0,0.0,0.0,0.0,-3.0,0.0,0.0,0.0,0.0,0.0,0.0,nan,0.0,0.0,0.0,0.0,0.0,0.0,0.0,0.0,0.0,0.0,0.0,0.0,0.0,0.0,0.0,0.0,0.0,0.0,0.0,0.0,-3.0,0.0,0.0,0.0,0.0,0.0,0.0,nan,0.0,0.0,0\n",
      "\n",
      "crossroad7_18,1.0,1.0,1,0.0,0.0,0.0,-3.0,0.0,1.0,1.0,1.0,1.0,0.0,6.802394763324314,0.072109375,0.07194850983796296,0.07267252604166667,2.729615783482095e-06,0.0016521548908870788,-1.1857641766666798,5.024720913803108,2.729615783482095e-06,0.070234375,0.07104275173611112,0.07292751736111111,0.07354817708333333,0.0018847656249999928,6.802128525381364,0.0,0.0,0,0.0,0.0,0.0,-3.0,0.0,0.0,0.0,0.0,0.0,0.0,nan,1.012218093273594,1.0191085241861841,1.0,0.0003076611029340436,0.017540270891124903,1.9255601262040638,4.531836257447585,0.0003076611029340436,1.0035829493087558,1.0077898095938829,1.0243618516967432,1.0445181283270557,0.01657204210286034,6.802248230691976,0.072109375,0.07194850983796296,0.07267252604166667,2.729615783482095e-06,0.0016521548908870788,-1.1857641766666798,5.024720913803108,2.729615783482095e-06,0.070234375,0.07104275173611112,0.07292751736111111,0.07354817708333333,0.0018847656249999928,6.802128525381364,1.0,0.0011111111111111111,1\n",
      "\n",
      "crossroad6_2,0.0,0.1622222222222222,0,0.13590617283950612,0.36865454403751236,1.8324894307740178,1.3580175138984805,0.13590617283950612,0.0,0.0,0.0,1.0,0.0,4.983606621708338,0.008813476562499999,0.009193563011320396,0.0032573784722222223,1.2408975781655793e-05,0.003522637617135176,0.518036005616243,-0.5953491970250844,1.2408975781655793e-05,0.005060763888888889,0.006407877604166666,0.011327039930555557,0.01489474826388889,0.004919162326388891,4.911074298627176,0.0,0.0,0,0.0,0.0,0.0,-3.0,0.0,0.0,0.0,0.0,0.0,0.0,nan,1.3277991324982144,1.3495040207880962,1.1092436974789917,0.013213697587146007,0.11495084857079571,1.482046377509159,5.97052063531342,0.013213697587146007,1.2144168798415056,1.2827003486673654,1.4095395818651633,1.4755032393713052,0.12683923319779788,4.980099082022633,0.0,0.0014914002218364198,0.0,1.350001891965856e-05,0.003674237188813286,2.450092533365193,5.037278722748349,1.350001891965856e-05,0.0,0.0,0.0,0.0077988281250000015,0.0,4.911074298627176,0.1622222222222222,0.0011111111111111111,1\n",
      "\n",
      "crossroad6_11,0.0,0.0,0,0.0,0.0,0.0,-3.0,0.0,0.0,0.0,0.0,0.0,0.0,nan,0.0,0.0,0.0,0.0,0.0,0.0,0.0,0.0,0.0,0.0,0.0,0.0,0.0,0.0,0.0,0.0,0,0.0,0.0,0.0,-3.0,0.0,0.0,0.0,0.0,0.0,0.0,nan,0.0,0.0,0.0,0.0,0.0,0.0,0.0,0.0,0.0,0.0,0.0,0.0,0.0,0.0,0.0,0.0,0.0,0.0,0.0,0.0,-3.0,0.0,0.0,0.0,0.0,0.0,0.0,nan,0.0,0.0,0\n",
      "\n",
      "crossroad6_13,0.0,0.0,0,0.0,0.0,0.0,-3.0,0.0,0.0,0.0,0.0,0.0,0.0,nan,0.0,0.0,0.0,0.0,0.0,0.0,0.0,0.0,0.0,0.0,0.0,0.0,0.0,0.0,0.0,0.0,0,0.0,0.0,0.0,-3.0,0.0,0.0,0.0,0.0,0.0,0.0,nan,0.0,0.0,0.0,0.0,0.0,0.0,0.0,0.0,0.0,0.0,0.0,0.0,0.0,0.0,0.0,0.0,0.0,0.0,0.0,0.0,-3.0,0.0,0.0,0.0,0.0,0.0,0.0,nan,0.0,0.0,0\n",
      "\n",
      "crossroad6_14,0.0,0.0,0,0.0,0.0,0.0,-3.0,0.0,0.0,0.0,0.0,0.0,0.0,nan,0.0,0.0,0.0,0.0,0.0,0.0,0.0,0.0,0.0,0.0,0.0,0.0,0.0,0.0,0.0,0.0,0,0.0,0.0,0.0,-3.0,0.0,0.0,0.0,0.0,0.0,0.0,nan,0.0,0.0,0.0,0.0,0.0,0.0,0.0,0.0,0.0,0.0,0.0,0.0,0.0,0.0,0.0,0.0,0.0,0.0,0.0,0.0,-3.0,0.0,0.0,0.0,0.0,0.0,0.0,nan,0.0,0.0,0\n",
      "\n",
      "crossroad6_20,0.0,0.0,0,0.0,0.0,0.0,-3.0,0.0,0.0,0.0,0.0,0.0,0.0,nan,0.0,0.0,0.0,0.0,0.0,0.0,0.0,0.0,0.0,0.0,0.0,0.0,0.0,0.0,0.0,0.0,0,0.0,0.0,0.0,-3.0,0.0,0.0,0.0,0.0,0.0,0.0,nan,0.0,0.0,0.0,0.0,0.0,0.0,0.0,0.0,0.0,0.0,0.0,0.0,0.0,0.0,0.0,0.0,0.0,0.0,0.0,0.0,-3.0,0.0,0.0,0.0,0.0,0.0,0.0,nan,0.0,0.0,0\n",
      "\n",
      "crossroad6_22,0.0,0.31555555555555553,0,0.21598024691358028,0.4647367501215933,0.7937588081690828,-1.3699469544539975,0.21598024691358028,0.0,0.0,1.0,1.0,1.0,5.648974238161207,0.0221875,0.056152148895980046,0.0193359375,0.0024630831673250245,0.04962945866443663,0.8170677995653032,-0.9433023572529904,0.0024630831673250245,0.013821506076388889,0.0188671875,0.0993967013888889,0.14016981336805556,0.0805295138888889,5.280901171562978,0.0,0.0,0,0.0,0.0,0.0,-3.0,0.0,0.0,0.0,0.0,0.0,0.0,nan,1.1508952794357026,1.1656497009154427,1.1747820254862509,0.006946573585755908,0.08334610720217177,0.7436877827871023,0.04507092719811645,0.006946573585755908,1.0697978979559704,1.1011955707835153,1.2218141222170864,1.2887019981366636,0.12061855143357114,5.628694658520913,0.0,0.01771912254050926,0.0,0.001458239080839994,0.03818689671654393,2.4286110069640716,4.725003277468641,0.001458239080839994,0.0,0.0,0.01784206814236111,0.0714296875,0.01784206814236111,5.280901171562977,0.31555555555555553,0.0011111111111111111,1\n",
      "\n",
      "crossroad6_23,0.0,0.0,0,0.0,0.0,0.0,-3.0,0.0,0.0,0.0,0.0,0.0,0.0,nan,0.0,0.0,0.0,0.0,0.0,0.0,0.0,0.0,0.0,0.0,0.0,0.0,0.0,0.0,0.0,0.0,0,0.0,0.0,0.0,-3.0,0.0,0.0,0.0,0.0,0.0,0.0,nan,0.0,0.0,0.0,0.0,0.0,0.0,0.0,0.0,0.0,0.0,0.0,0.0,0.0,0.0,0.0,0.0,0.0,0.0,0.0,0.0,-3.0,0.0,0.0,0.0,0.0,0.0,0.0,nan,0.0,0.0,0\n",
      "\n",
      "crossroad6_25,0.0,0.0,0,0.0,0.0,0.0,-3.0,0.0,0.0,0.0,0.0,0.0,0.0,nan,0.0,0.0,0.0,0.0,0.0,0.0,0.0,0.0,0.0,0.0,0.0,0.0,0.0,0.0,0.0,0.0,0,0.0,0.0,0.0,-3.0,0.0,0.0,0.0,0.0,0.0,0.0,nan,0.0,0.0,0.0,0.0,0.0,0.0,0.0,0.0,0.0,0.0,0.0,0.0,0.0,0.0,0.0,0.0,0.0,0.0,0.0,0.0,-3.0,0.0,0.0,0.0,0.0,0.0,0.0,nan,0.0,0.0,0\n",
      "\n",
      "crossroad6_26,0.0,0.0,0,0.0,0.0,0.0,-3.0,0.0,0.0,0.0,0.0,0.0,0.0,nan,0.0,0.0,0.0,0.0,0.0,0.0,0.0,0.0,0.0,0.0,0.0,0.0,0.0,0.0,0.0,0.0,0,0.0,0.0,0.0,-3.0,0.0,0.0,0.0,0.0,0.0,0.0,nan,0.0,0.0,0.0,0.0,0.0,0.0,0.0,0.0,0.0,0.0,0.0,0.0,0.0,0.0,0.0,0.0,0.0,0.0,0.0,0.0,-3.0,0.0,0.0,0.0,0.0,0.0,0.0,nan,0.0,0.0,0\n",
      "\n",
      "crossroad6_27,0.0,0.0,0,0.0,0.0,0.0,-3.0,0.0,0.0,0.0,0.0,0.0,0.0,nan,0.0,0.0,0.0,0.0,0.0,0.0,0.0,0.0,0.0,0.0,0.0,0.0,0.0,0.0,0.0,0.0,0,0.0,0.0,0.0,-3.0,0.0,0.0,0.0,0.0,0.0,0.0,nan,0.0,0.0,0.0,0.0,0.0,0.0,0.0,0.0,0.0,0.0,0.0,0.0,0.0,0.0,0.0,0.0,0.0,0.0,0.0,0.0,-3.0,0.0,0.0,0.0,0.0,0.0,0.0,nan,0.0,0.0,0\n",
      "\n",
      "crossroad6_36,0.0,0.0,0,0.0,0.0,0.0,-3.0,0.0,0.0,0.0,0.0,0.0,0.0,nan,0.0,0.0,0.0,0.0,0.0,0.0,0.0,0.0,0.0,0.0,0.0,0.0,0.0,0.0,0.0,0.0,0,0.0,0.0,0.0,-3.0,0.0,0.0,0.0,0.0,0.0,0.0,nan,0.0,0.0,0.0,0.0,0.0,0.0,0.0,0.0,0.0,0.0,0.0,0.0,0.0,0.0,0.0,0.0,0.0,0.0,0.0,0.0,-3.0,0.0,0.0,0.0,0.0,0.0,0.0,nan,0.0,0.0,0\n",
      "\n",
      "cropped_driving2_3,0.0,0.0,0,0.0,0.0,0.0,-3.0,0.0,0.0,0.0,0.0,0.0,0.0,nan,0.0,0.0,0.0,0.0,0.0,0.0,0.0,0.0,0.0,0.0,0.0,0.0,0.0,0.0,0.0,0.011111111111111112,0,0.019876543209876547,0.14098419489388359,15.62318740715971,278.9015084294587,0.019876543209876547,0.0,0.0,0.0,0.0,0.0,1.8343719702816237,0.0,0.0,0.0,0.0,0.0,0.0,0.0,0.0,0.0,0.0,0.0,0.0,0.0,0.0,0.0,0.0,0.0,0.0,0.0,0.0,-3.0,0.0,0.0,0.0,0.0,0.0,0.0,nan,0.0,0.0,0\n",
      "\n",
      "cropped_driving2_5,0.0,0.0,0,0.0,0.0,0.0,-3.0,0.0,0.0,0.0,0.0,0.0,0.0,nan,0.0,0.0,0.0,0.0,0.0,0.0,0.0,0.0,0.0,0.0,0.0,0.0,0.0,0.0,0.0,0.0,0,0.0,0.0,0.0,-3.0,0.0,0.0,0.0,0.0,0.0,0.0,nan,0.0,0.0,0.0,0.0,0.0,0.0,0.0,0.0,0.0,0.0,0.0,0.0,0.0,0.0,0.0,0.0,0.0,0.0,0.0,0.0,-3.0,0.0,0.0,0.0,0.0,0.0,0.0,nan,0.0,0.0,0\n",
      "\n",
      "cropped_driving2_6,0.0,0.0,0,0.0,0.0,0.0,-3.0,0.0,0.0,0.0,0.0,0.0,0.0,nan,0.0,0.0,0.0,0.0,0.0,0.0,0.0,0.0,0.0,0.0,0.0,0.0,0.0,0.0,0.0,0.0,0,0.0,0.0,0.0,-3.0,0.0,0.0,0.0,0.0,0.0,0.0,nan,0.0,0.0,0.0,0.0,0.0,0.0,0.0,0.0,0.0,0.0,0.0,0.0,0.0,0.0,0.0,0.0,0.0,0.0,0.0,0.0,-3.0,0.0,0.0,0.0,0.0,0.0,0.0,nan,0.0,0.0,0\n",
      "\n",
      "cropped_crossroad4_3_1,1.0,1.0,1,0.0,0.0,0.0,-3.0,0.0,1.0,1.0,1.0,1.0,0.0,6.802394763324314,0.035416666666666666,0.035511217206790124,0.035833333333333335,4.381689758347295e-06,0.0020932486136021433,0.6311955150982022,2.3966506981514373,4.381689758347295e-06,0.03298611111111111,0.034166666666666665,0.03670247395833333,0.038311631944444445,0.002535807291666664,6.80067409636262,0.0,0.0,0,0.0,0.0,0.0,-3.0,0.0,0.0,0.0,0.0,0.0,0.0,nan,1.067663257277734,1.0750122340122568,1.0,0.0020605224961919143,0.0453929784899814,1.745226119020138,8.157285652783637,0.0020605224961919143,1.0229885057471264,1.044938219379189,1.098968064665739,1.1320129739690914,0.05402984528654997,6.801522602133676,0.035416666666666666,0.035511217206790124,0.035833333333333335,4.381689758347295e-06,0.0020932486136021433,0.6311955150982022,2.3966506981514373,4.381689758347295e-06,0.03298611111111111,0.034166666666666665,0.03670247395833333,0.038311631944444445,0.002535807291666664,6.80067409636262,1.0,0.0011111111111111111,1\n",
      "\n",
      "cropped_crossroad4_3_12,1.0,1.0,1,0.0,0.0,0.0,-3.0,0.0,1.0,1.0,1.0,1.0,0.0,6.802394763324314,0.023697916666666666,0.02384862075617284,0.023394097222222222,1.8199180018118723e-06,0.0013490433654304343,0.02877717983433442,-0.34459961753623913,1.8199180018118723e-06,0.022158854166666665,0.023020833333333334,0.024913194444444446,0.025577256944444446,0.001892361111111112,6.800793439531784,0.0,0.0,0,0.0,0.0,0.0,-3.0,0.0,0.0,0.0,0.0,0.0,0.0,nan,1.0420620373688094,1.051040282794889,1.0,0.0015445279743349783,0.03930048313106314,1.84008043246766,7.099015781659389,0.0015445279743349783,1.0121951219512195,1.025974025974026,1.069797138650959,1.0981966951382642,0.04382311267693306,6.80171023932572,0.023697916666666666,0.02384862075617284,0.023394097222222222,1.8199180018118723e-06,0.0013490433654304343,0.02877717983433442,-0.34459961753623913,1.8199180018118723e-06,0.022158854166666665,0.023020833333333334,0.024913194444444446,0.025577256944444446,0.001892361111111112,6.800793439531784,1.0,0.0011111111111111111,1\n",
      "\n"
     ]
    }
   ],
   "source": [
    "all_feature_names, moving, video_to_delete, selected_video, glimpse_video_to_delete = initialization()\n",
    "path = '../feature_analysis/video_features_30s/'\n",
    "# feature_file = path + 'features_all_type_width_height_filter.csv'\n",
    "feature_file = path + 'allvideo_features_long_add_width_20_filter.csv'\n",
    "features = read_feature(feature_file)"
   ]
  },
  {
   "cell_type": "code",
   "execution_count": 4,
   "metadata": {},
   "outputs": [],
   "source": [
    "# load videostorm and glimpse performance\n",
    "# load selected videos\n",
    "\n",
    "def NS_parser(path):\n",
    "    perf = {}\n",
    "    with open(path, 'r') as f:\n",
    "        f.readline()\n",
    "        for line in f:\n",
    "            line_list = line.strip().split(',')\n",
    "            f1 = float(line_list[3])\n",
    "            bw = float(line_list[4])\n",
    "            gpu = float(line_list[5])\n",
    "            perf[line_list[0]] = (gpu, f1, bw)\n",
    "\n",
    "    return perf\n",
    "\n",
    "def MS_parser(path):\n",
    "    perf = {}\n",
    "    with open(path, 'r') as f:\n",
    "        f.readline()\n",
    "        for line in f:\n",
    "            line_list = line.strip().split(',')\n",
    "            f1 = float(line_list[2])\n",
    "            gpu = float(line_list[3])\n",
    "            easy_frame = float(line_list[4])\n",
    "            perf[line_list[0]] = (gpu, f1, easy_frame)\t\t\n",
    "    return perf\n",
    "\n",
    "noscope_path = '../noscope/results/Noscope_overfitting_result_allvideo_w_gpu_cost_min_gpu.csv'\n",
    "noscope_perf = NS_parser(noscope_path)\n",
    "modelselection_path = '../model_selection/results/model_selection_overfitting_mergelabel.csv'\n",
    "modelselection_perf = MS_parser(modelselection_path)\n",
    "\n"
   ]
  },
  {
   "cell_type": "code",
   "execution_count": 5,
   "metadata": {},
   "outputs": [
    {
     "name": "stdout",
     "output_type": "stream",
     "text": [
      "['crossroad2_63', 'drift_2', 'drift_4', 'drift_7', 'drift_8', 'drift_13', 'drift_17', 'drift_19', 'drift_23', 'drift_27', 'drift_28', 'drift_33', 'drift_37', 'drift_38', 'driving1_6', 'driving1_7', 'driving1_8', 'driving1_11', 'driving1_12', 'driving1_13', 'driving1_14', 'driving2_12', 'driving_downtown_25', 'jp_8', 'jp_12', 'jp_22', 'jp_34', 'nyc_2', 'park_0', 'park_3', 'park_12', 'park_13', 'park_15', 'park_16', 'park_17', 'park_20', 'park_23', 'park_29']\n"
     ]
    }
   ],
   "source": [
    "# load selected videos for GL and VS\n",
    "selected_video_path = './video_selection_results/'\n",
    "selected_videos = []\n",
    "with open(selected_video_path + 'no_video_selection.csv', 'r') as f:\n",
    "    f.readline()\n",
    "    for line in f:\n",
    "        line_list = line.strip().split(',')\n",
    "        if line_list[3] == '':\n",
    "            break\n",
    "        selected_videos.append(line_list[3])\n",
    "        \n",
    "print(selected_videos)"
   ]
  },
  {
   "cell_type": "code",
   "execution_count": 11,
   "metadata": {},
   "outputs": [],
   "source": [
    "perf1 = []\n",
    "perf2 = []\n",
    "feature1 = []\n",
    "feature2 = []\n",
    "for key in selected_videos:\n",
    "    if key not in features or key not in noscope_perf or key not in modelselection_perf:\n",
    "        continue\n",
    "    feature1.append(features[key][all_feature_names.index('object_size_percentile10')])\n",
    "    feature2.append(features[key][all_feature_names.index('arrival_rate_second_moment')])\n",
    "    perf1.append(noscope_perf[key][0])\n",
    "    perf2.append(modelselection_perf[key][0])"
   ]
  },
  {
   "cell_type": "code",
   "execution_count": 12,
   "metadata": {},
   "outputs": [
    {
     "name": "stdout",
     "output_type": "stream",
     "text": [
      "0.0030381944444444445\n",
      "0.0038856336805555554\n",
      "0.003977864583333333\n",
      "0.003901041666666667\n",
      "0.0040625\n",
      "0.004288194444444444\n",
      "0.003782660590277778\n",
      "0.0036277126736111113\n",
      "0.0036963975694444444\n",
      "0.0037493489583333333\n",
      "0.003564670138888889\n",
      "0.004366753472222222\n",
      "0.004067708333333334\n",
      "0.0036953125\n",
      "0.0023394097222222223\n",
      "0.0020616319444444445\n",
      "0.002185329861111111\n",
      "0.0022265625\n",
      "0.0020475260416666667\n",
      "0.0023919270833333336\n",
      "0.0020247395833333333\n",
      "0.005473090277777778\n",
      "0.0022688802083333333\n",
      "0.00365234375\n",
      "0.0038085937499999995\n",
      "0.0037955729166666667\n",
      "0.003738064236111111\n",
      "0.0021909722222222226\n",
      "0.0022808159722222223\n",
      "0.0023489583333333335\n",
      "0.0025017361111111113\n",
      "0.0029832899305555554\n",
      "0.0022706163194444445\n",
      "0.0030104166666666664\n",
      "0.0023697916666666667\n",
      "0.004232204861111111\n",
      "0.0023311631944444443\n",
      "0.002518446180555556\n",
      "0.0030381944444444445\n",
      "0.0038856336805555554\n",
      "0.003977864583333333\n",
      "0.003901041666666667\n",
      "0.0040625\n",
      "0.004288194444444444\n",
      "0.003782660590277778\n",
      "0.0036277126736111113\n",
      "0.0036963975694444444\n",
      "0.0037493489583333333\n",
      "0.003564670138888889\n",
      "0.004366753472222222\n",
      "0.004067708333333334\n",
      "0.0036953125\n",
      "0.0023394097222222223\n",
      "0.0020616319444444445\n",
      "0.002185329861111111\n",
      "0.0022265625\n",
      "0.0020475260416666667\n",
      "0.0023919270833333336\n",
      "0.0020247395833333333\n",
      "0.005473090277777778\n",
      "0.0022688802083333333\n",
      "0.00365234375\n",
      "0.0038085937499999995\n",
      "0.0037955729166666667\n",
      "0.003738064236111111\n",
      "0.0021909722222222226\n",
      "0.0022808159722222223\n",
      "0.0023489583333333335\n",
      "0.0025017361111111113\n",
      "0.0029832899305555554\n",
      "0.0022706163194444445\n",
      "0.0030104166666666664\n",
      "0.0023697916666666667\n",
      "0.004232204861111111\n",
      "0.0023311631944444443\n",
      "0.002518446180555556\n"
     ]
    },
    {
     "data": {
      "image/png": "[encoded data removed]",
      "text/plain": [
       "<Figure size 432x288 with 1 Axes>"
      ]
     },
     "metadata": {
      "needs_background": "light"
     },
     "output_type": "display_data"
    }
   ],
   "source": [
    "feature = feature1\n",
    "vs_perf_bucket = bucketize_feature(feature, perf1)\n",
    "gl_perf_bccket = bucketize_feature(feature, perf2)\n",
    "fig, ax = plt.subplots()\n",
    "vs_all_percentile = []\n",
    "gl_all_percentile = []\n",
    "xticks =  []\n",
    "for key in sorted(vs_perf_bucket.keys())[1:]:\n",
    "    xticks.append(format(key, '02.2f'))\n",
    "    current_perf = vs_perf_bucket[key]\n",
    "    percentile = compute_percentiel(current_perf)\n",
    "    vs_all_percentile.append(percentile)\n",
    "    current_perf = gl_perf_bccket[key]\n",
    "    percentile = compute_percentiel(current_perf)\n",
    "    gl_all_percentile.append(percentile)\n",
    "ax.boxplot(gl_all_percentile,showfliers=False, patch_artist=True)\n",
    "bp = ax.boxplot(vs_all_percentile,showfliers=False, patch_artist=True)\n",
    "for patch in bp['boxes']:\n",
    "    patch.set(facecolor='r') \n",
    "plt.xticks(np.arange(1, len(vs_all_percentile) + 1), xticks)      \n",
    "plt.show()\n",
    "\n",
    "\n"
   ]
  },
  {
   "cell_type": "code",
   "execution_count": 13,
   "metadata": {},
   "outputs": [
    {
     "name": "stdout",
     "output_type": "stream",
     "text": [
      "2.441377777777778\n",
      "0.6366666666666668\n",
      "0.322383950617284\n",
      "0.7055555555555554\n",
      "0.4533333333333333\n",
      "1.5733333333333337\n",
      "0.7070061728395063\n",
      "0.9090666666666669\n",
      "0.5822222222222222\n",
      "0.2966666666666666\n",
      "0.13111111111111112\n",
      "0.2088888888888889\n",
      "0.6366666666666669\n",
      "0.7177777777777781\n",
      "0.5330999999999999\n",
      "13.264572839506169\n",
      "11.477777777777778\n",
      "29.174166666666668\n",
      "10.682350617283952\n",
      "2.6070913580246917\n",
      "3.5753320987654322\n",
      "0.15\n",
      "3.2856098765432105\n",
      "3.3899999999999997\n",
      "3.384902469135802\n",
      "1.738720987654321\n",
      "4.666488888888889\n",
      "3.094788888888888\n",
      "0.2644444444444445\n",
      "0.24154444444444453\n",
      "0.4443691358024691\n",
      "3.088888888888889\n",
      "1.8869135802469135\n",
      "0.34\n",
      "1.05\n",
      "0.16199506172839503\n",
      "0.5311111111111112\n",
      "1.026666666666667\n",
      "2.441377777777778\n",
      "0.6366666666666668\n",
      "0.322383950617284\n",
      "0.7055555555555554\n",
      "0.4533333333333333\n",
      "1.5733333333333337\n",
      "0.7070061728395063\n",
      "0.9090666666666669\n",
      "0.5822222222222222\n",
      "0.2966666666666666\n",
      "0.13111111111111112\n",
      "0.2088888888888889\n",
      "0.6366666666666669\n",
      "0.7177777777777781\n",
      "0.5330999999999999\n",
      "13.264572839506169\n",
      "11.477777777777778\n",
      "29.174166666666668\n",
      "10.682350617283952\n",
      "2.6070913580246917\n",
      "3.5753320987654322\n",
      "0.15\n",
      "3.2856098765432105\n",
      "3.3899999999999997\n",
      "3.384902469135802\n",
      "1.738720987654321\n",
      "4.666488888888889\n",
      "3.094788888888888\n",
      "0.2644444444444445\n",
      "0.24154444444444453\n",
      "0.4443691358024691\n",
      "3.088888888888889\n",
      "1.8869135802469135\n",
      "0.34\n",
      "1.05\n",
      "0.16199506172839503\n",
      "0.5311111111111112\n",
      "1.026666666666667\n"
     ]
    },
    {
     "data": {
      "image/png": "[encoded data removed]",
      "text/plain": [
       "<Figure size 432x288 with 1 Axes>"
      ]
     },
     "metadata": {
      "needs_background": "light"
     },
     "output_type": "display_data"
    }
   ],
   "source": [
    "feature = feature2\n",
    "vs_perf_bucket = bucketize_feature(feature, perf1)\n",
    "gl_perf_bccket = bucketize_feature(feature, perf2)\n",
    "fig, ax = plt.subplots()\n",
    "vs_all_percentile = []\n",
    "gl_all_percentile = []\n",
    "xticks =  []\n",
    "for key in sorted(vs_perf_bucket.keys())[1:]:\n",
    "    xticks.append(format(key, '02.2f'))\n",
    "    current_perf = vs_perf_bucket[key]\n",
    "    percentile = compute_percentiel(current_perf)\n",
    "    vs_all_percentile.append(percentile)\n",
    "    current_perf = gl_perf_bccket[key]\n",
    "    percentile = compute_percentiel(current_perf)\n",
    "    gl_all_percentile.append(percentile)\n",
    "ax.boxplot(gl_all_percentile,showfliers=False, patch_artist=True)\n",
    "bp = ax.boxplot(vs_all_percentile,showfliers=False, patch_artist=True)\n",
    "for patch in bp['boxes']:\n",
    "    patch.set(facecolor='r') \n",
    "plt.xticks(np.arange(1, len(vs_all_percentile) + 1), xticks)      \n",
    "plt.show()\n",
    "\n"
   ]
  },
  {
   "cell_type": "code",
   "execution_count": 17,
   "metadata": {},
   "outputs": [
    {
     "data": {
      "text/plain": [
       "(0, 0.006)"
      ]
     },
     "execution_count": 17,
     "metadata": {},
     "output_type": "execute_result"
    },
    {
     "data": {
      "image/png": "[encoded data removed]",
      "text/plain": [
       "<Figure size 432x288 with 1 Axes>"
      ]
     },
     "metadata": {
      "needs_background": "light"
     },
     "output_type": "display_data"
    }
   ],
   "source": [
    "for i in range(len(feature1)):\n",
    "    if perf1[i] > perf2[i]:\n",
    "        plt.scatter(feature2[i], feature1[i], c = 'r')\n",
    "    if perf1[i] < perf2[i]:\n",
    "        plt.scatter(feature2[i], feature1[i], c = 'b')\n",
    "plt.ylim(0, 0.006)"
   ]
  },
  {
   "cell_type": "code",
   "execution_count": null,
   "metadata": {},
   "outputs": [],
   "source": []
  }
 ],
 "metadata": {
  "kernelspec": {
   "display_name": "newenv",
   "language": "python",
   "name": "newenv"
  },
  "language_info": {
   "codemirror_mode": {
    "name": "ipython",
    "version": 3
   },
   "file_extension": ".py",
   "mimetype": "text/x-python",
   "name": "python",
   "nbconvert_exporter": "python",
   "pygments_lexer": "ipython3",
   "version": "3.6.9"
  }
 },
 "nbformat": 4,
 "nbformat_minor": 2
}
