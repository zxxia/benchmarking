{
 "cells": [
  {
   "cell_type": "code",
   "execution_count": 6,
   "metadata": {},
   "outputs": [],
   "source": [
    "# load model_selection profile result\n",
    "import glob\n",
    "from collections import defaultdict\n",
    "from benchmarking.constants import MODEL_COST\n",
    "path = '../model_selection/results/'\n",
    "\n",
    "modelselection_profile = defaultdict(list)\n",
    "for file in glob.glob(path + '/*_profile_log_mergelabel.csv'):\n",
    "    with open(file, 'r') as f:\n",
    "        f.readline()\n",
    "        for line in f:\n",
    "            line_list = line.strip().split(',')\n",
    "            key = line_list[0]\n",
    "            f1 = float(line_list[2])\n",
    "            gpu = float(MODEL_COST[line_list[1]])/MODEL_COST['FasterRCNN']\n",
    "            modelselection_profile[key].append((gpu, f1))\n",
    "            \n",
    "        "
   ]
  },
  {
   "cell_type": "code",
   "execution_count": 46,
   "metadata": {},
   "outputs": [],
   "source": [
    "# load noscope_selection profile result\n",
    "path = '/mnt/data/zhujun/dataset/NoScope_finetuned_models/'\n",
    "noscope_profile = defaultdict(list)\n",
    "for file in glob.glob(path + '/*/data/tmp_log_overfitting_w_gpu_cost_min_gpu.csv'):\n",
    "    with open(file, 'r') as f:\n",
    "        f.readline()\n",
    "        for line in f:\n",
    "            line_list = line.strip().split(',')\n",
    "            key = line_list[0]\n",
    "            mse_thresh = float(line_list[1])\n",
    "            if mse_thresh != 0:\n",
    "                continue\n",
    "            num_trigger_frame = len(line_list[4].split(' '))\n",
    "            f1 = float(line_list[3])\n",
    "            gpu = (MODEL_COST['mobilenet']*900 + MODEL_COST['FasterRCNN']*num_trigger_frame)/(900*MODEL_COST['FasterRCNN'])\n",
    "            noscope_profile[key].append((gpu, f1))"
   ]
  },
  {
   "cell_type": "code",
   "execution_count": 50,
   "metadata": {},
   "outputs": [
    {
     "name": "stdout",
     "output_type": "stream",
     "text": [
      "crossroad3_7\n"
     ]
    }
   ],
   "source": [
    "from matplotlib import pyplot as plt\n",
    "f1 = open('tradeoff_curve_NS.txt', 'w')\n",
    "f2 = open('tradeoff_curve_MS.txt', 'w')\n",
    "f1.write('#NS_gpu,NS_f1(using video crossroad3_7)\\n')\n",
    "f2.write('#MS_gpu,MS_f1(using video crossroad3_7)\\n')\n",
    "\n",
    "for (k, v) in modelselection_profile.items():\n",
    "    if k not in noscope_profile:\n",
    "        continue\n",
    "    if 'crossroad3_7' not in k:\n",
    "        continue\n",
    "\n",
    "#     plt.plot([x[0] for x in v], [x[1] for x in v], c='b')\n",
    "    if noscope_profile[k][0][1] < 0.7:\n",
    "        continue\n",
    "    print(k)\n",
    "#     plt.plot([x[0] for x in noscope_profile[k]], [x[1] for x in noscope_profile[k]], c='r')\n",
    "#     plt.xlim(0, 1.3)\n",
    "#     plt.ylim(0, 1)\n",
    "    for x in noscope_profile[k]:\n",
    "        f1.write(str(x[0]) + ',' + str(x[1])+'\\n')\n",
    "    for x in modelselection_profile[k]:\n",
    "        f2.write(str(x[0]) + ',' + str(x[1])+'\\n')    \n",
    "    \n",
    "    \n"
   ]
  },
  {
   "cell_type": "code",
   "execution_count": null,
   "metadata": {},
   "outputs": [],
   "source": []
  }
 ],
 "metadata": {
  "kernelspec": {
   "display_name": "newenv",
   "language": "python",
   "name": "newenv"
  },
  "language_info": {
   "codemirror_mode": {
    "name": "ipython",
    "version": 3
   },
   "file_extension": ".py",
   "mimetype": "text/x-python",
   "name": "python",
   "nbconvert_exporter": "python",
   "pygments_lexer": "ipython3",
   "version": "3.6.9"
  }
 },
 "nbformat": 4,
 "nbformat_minor": 2
}
