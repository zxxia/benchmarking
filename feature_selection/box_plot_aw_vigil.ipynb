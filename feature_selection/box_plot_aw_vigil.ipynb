{
 "cells": [
  {
   "cell_type": "code",
   "execution_count": 1,
   "metadata": {},
   "outputs": [],
   "source": [
    "from pipeline_performance_loader import initialization, read_feature\n",
    "import glob\n",
    "from collections import defaultdict\n",
    "import numpy as np\n",
    "import math\n",
    "from matplotlib import pyplot as plt"
   ]
  },
  {
   "cell_type": "code",
   "execution_count": 14,
   "metadata": {},
   "outputs": [],
   "source": [
    "def compute_percentiel(data):\n",
    "\tpercentile = []\n",
    "\tfor i in [5, 25, 50, 75, 95]:\n",
    "\t\tpercentile.append(np.percentile(data, i))\n",
    "\n",
    "\treturn percentile\n",
    "\n",
    "\n",
    "def bucketize_feature(feature, perf, num_of_bucket=4):\n",
    "\tfeature_range = (min(feature), max(feature))\n",
    "\tfeatuer_list = []\n",
    "\tperf_list = []\n",
    "\tfeature_bins = np.logspace(math.log10(feature_range[0]), math.log10(feature_range[1]), num=num_of_bucket+1)\n",
    "\tperf_bucket = defaultdict(list)\n",
    "\tfor i in range(len(feature)):\n",
    "\t\tcurrent_feature = feature[i]\n",
    "\t\tif current_feature >= feature_bins[-1]:\n",
    "\t\t\tcurrent_bin = len(feature_bins) - 1 \n",
    "\t\telse:\n",
    "\t\t\tcurrent_bin = next(x[0] for x in enumerate(feature_bins) \n",
    "\t\t\t\t\t\t\t\tif x[1] >= current_feature)\n",
    "\n",
    "\t\tperf_bucket[feature_bins[current_bin]].append(perf[i])\n",
    "\n",
    "\n",
    "\treturn perf_bucket"
   ]
  },
  {
   "cell_type": "code",
   "execution_count": 3,
   "metadata": {},
   "outputs": [
    {
     "name": "stdout",
     "output_type": "stream",
     "text": [
      "driving2_3,0.0,0.0,0,0.0,0.0,0.0,-3.0,0.0,0.0,0.0,0.0,0.0,0.0,nan,0.0,0.0,0.0,0.0,0.0,0.0,0.0,0.0,0.0,0.0,0.0,0.0,0.0,0.0,0.0,0.017777777777777778,0,0.03079506172839507,0.17548521797688565,10.38655522428052,109.89372638584705,0.03079506172839507,0.0,0.0,0.0,0.0,0.0,2.252728336819822,0.0,0.0,0.0,0.0,0.0,0.0,0.0,0.0,0.0,0.0,0.0,0.0,0.0,0.0,0.0,0.0,0.0,0.0,0.0,0.0,-3.0,0.0,0.0,0.0,0.0,0.0,0.0,nan,0.0,0.0,0\n",
      "\n",
      "driving2_8,0.0,0.0,0,0.0,0.0,0.0,-3.0,0.0,0.0,0.0,0.0,0.0,0.0,nan,0.0,0.0,0.0,0.0,0.0,0.0,0.0,0.0,0.0,0.0,0.0,0.0,0.0,0.0,0.0,0.0,0,0.0,0.0,0.0,-3.0,0.0,0.0,0.0,0.0,0.0,0.0,nan,0.0,0.0,0.0,0.0,0.0,0.0,0.0,0.0,0.0,0.0,0.0,0.0,0.0,0.0,0.0,0.0,0.0,0.0,0.0,0.0,-3.0,0.0,0.0,0.0,0.0,0.0,0.0,nan,0.0,0.0,0\n",
      "\n",
      "driving2_27,0.0,0.0,0,0.0,0.0,0.0,-3.0,0.0,0.0,0.0,0.0,0.0,0.0,nan,0.0,0.0,0.0,0.0,0.0,0.0,0.0,0.0,0.0,0.0,0.0,0.0,0.0,0.0,0.0,0.0,0,0.0,0.0,0.0,-3.0,0.0,0.0,0.0,0.0,0.0,0.0,nan,0.0,0.0,0.0,0.0,0.0,0.0,0.0,0.0,0.0,0.0,0.0,0.0,0.0,0.0,0.0,0.0,0.0,0.0,0.0,0.0,-3.0,0.0,0.0,0.0,0.0,0.0,0.0,nan,0.0,0.0,0\n",
      "\n",
      "crossroad7_18,1.0,1.0,1,0.0,0.0,0.0,-3.0,0.0,1.0,1.0,1.0,1.0,0.0,6.802394763324314,0.072109375,0.07194850983796296,0.07267252604166667,2.729615783482095e-06,0.0016521548908870788,-1.1857641766666798,5.024720913803108,2.729615783482095e-06,0.070234375,0.07104275173611112,0.07292751736111111,0.07354817708333333,0.0018847656249999928,6.802128525381364,0.0,0.0,0,0.0,0.0,0.0,-3.0,0.0,0.0,0.0,0.0,0.0,0.0,nan,1.012218093273594,1.0191085241861841,1.0,0.0003076611029340436,0.017540270891124903,1.9255601262040638,4.531836257447585,0.0003076611029340436,1.0035829493087558,1.0077898095938829,1.0243618516967432,1.0445181283270557,0.01657204210286034,6.802248230691976,0.072109375,0.07194850983796296,0.07267252604166667,2.729615783482095e-06,0.0016521548908870788,-1.1857641766666798,5.024720913803108,2.729615783482095e-06,0.070234375,0.07104275173611112,0.07292751736111111,0.07354817708333333,0.0018847656249999928,6.802128525381364,1.0,0.0011111111111111111,1\n",
      "\n",
      "crossroad6_2,0.0,0.1622222222222222,0,0.13590617283950612,0.36865454403751236,1.8324894307740178,1.3580175138984805,0.13590617283950612,0.0,0.0,0.0,1.0,0.0,4.983606621708338,0.008813476562499999,0.009193563011320396,0.0032573784722222223,1.2408975781655793e-05,0.003522637617135176,0.518036005616243,-0.5953491970250844,1.2408975781655793e-05,0.005060763888888889,0.006407877604166666,0.011327039930555557,0.01489474826388889,0.004919162326388891,4.911074298627176,0.0,0.0,0,0.0,0.0,0.0,-3.0,0.0,0.0,0.0,0.0,0.0,0.0,nan,1.3277991324982144,1.3495040207880962,1.1092436974789917,0.013213697587146007,0.11495084857079571,1.482046377509159,5.97052063531342,0.013213697587146007,1.2144168798415056,1.2827003486673654,1.4095395818651633,1.4755032393713052,0.12683923319779788,4.980099082022633,0.0,0.0014914002218364198,0.0,1.350001891965856e-05,0.003674237188813286,2.450092533365193,5.037278722748349,1.350001891965856e-05,0.0,0.0,0.0,0.0077988281250000015,0.0,4.911074298627176,0.1622222222222222,0.0011111111111111111,1\n",
      "\n",
      "crossroad6_11,0.0,0.0,0,0.0,0.0,0.0,-3.0,0.0,0.0,0.0,0.0,0.0,0.0,nan,0.0,0.0,0.0,0.0,0.0,0.0,0.0,0.0,0.0,0.0,0.0,0.0,0.0,0.0,0.0,0.0,0,0.0,0.0,0.0,-3.0,0.0,0.0,0.0,0.0,0.0,0.0,nan,0.0,0.0,0.0,0.0,0.0,0.0,0.0,0.0,0.0,0.0,0.0,0.0,0.0,0.0,0.0,0.0,0.0,0.0,0.0,0.0,-3.0,0.0,0.0,0.0,0.0,0.0,0.0,nan,0.0,0.0,0\n",
      "\n",
      "crossroad6_13,0.0,0.0,0,0.0,0.0,0.0,-3.0,0.0,0.0,0.0,0.0,0.0,0.0,nan,0.0,0.0,0.0,0.0,0.0,0.0,0.0,0.0,0.0,0.0,0.0,0.0,0.0,0.0,0.0,0.0,0,0.0,0.0,0.0,-3.0,0.0,0.0,0.0,0.0,0.0,0.0,nan,0.0,0.0,0.0,0.0,0.0,0.0,0.0,0.0,0.0,0.0,0.0,0.0,0.0,0.0,0.0,0.0,0.0,0.0,0.0,0.0,-3.0,0.0,0.0,0.0,0.0,0.0,0.0,nan,0.0,0.0,0\n",
      "\n",
      "crossroad6_14,0.0,0.0,0,0.0,0.0,0.0,-3.0,0.0,0.0,0.0,0.0,0.0,0.0,nan,0.0,0.0,0.0,0.0,0.0,0.0,0.0,0.0,0.0,0.0,0.0,0.0,0.0,0.0,0.0,0.0,0,0.0,0.0,0.0,-3.0,0.0,0.0,0.0,0.0,0.0,0.0,nan,0.0,0.0,0.0,0.0,0.0,0.0,0.0,0.0,0.0,0.0,0.0,0.0,0.0,0.0,0.0,0.0,0.0,0.0,0.0,0.0,-3.0,0.0,0.0,0.0,0.0,0.0,0.0,nan,0.0,0.0,0\n",
      "\n",
      "crossroad6_20,0.0,0.0,0,0.0,0.0,0.0,-3.0,0.0,0.0,0.0,0.0,0.0,0.0,nan,0.0,0.0,0.0,0.0,0.0,0.0,0.0,0.0,0.0,0.0,0.0,0.0,0.0,0.0,0.0,0.0,0,0.0,0.0,0.0,-3.0,0.0,0.0,0.0,0.0,0.0,0.0,nan,0.0,0.0,0.0,0.0,0.0,0.0,0.0,0.0,0.0,0.0,0.0,0.0,0.0,0.0,0.0,0.0,0.0,0.0,0.0,0.0,-3.0,0.0,0.0,0.0,0.0,0.0,0.0,nan,0.0,0.0,0\n",
      "\n",
      "crossroad6_22,0.0,0.31555555555555553,0,0.21598024691358028,0.4647367501215933,0.7937588081690828,-1.3699469544539975,0.21598024691358028,0.0,0.0,1.0,1.0,1.0,5.648974238161207,0.0221875,0.056152148895980046,0.0193359375,0.0024630831673250245,0.04962945866443663,0.8170677995653032,-0.9433023572529904,0.0024630831673250245,0.013821506076388889,0.0188671875,0.0993967013888889,0.14016981336805556,0.0805295138888889,5.280901171562978,0.0,0.0,0,0.0,0.0,0.0,-3.0,0.0,0.0,0.0,0.0,0.0,0.0,nan,1.1508952794357026,1.1656497009154427,1.1747820254862509,0.006946573585755908,0.08334610720217177,0.7436877827871023,0.04507092719811645,0.006946573585755908,1.0697978979559704,1.1011955707835153,1.2218141222170864,1.2887019981366636,0.12061855143357114,5.628694658520913,0.0,0.01771912254050926,0.0,0.001458239080839994,0.03818689671654393,2.4286110069640716,4.725003277468641,0.001458239080839994,0.0,0.0,0.01784206814236111,0.0714296875,0.01784206814236111,5.280901171562977,0.31555555555555553,0.0011111111111111111,1\n",
      "\n",
      "crossroad6_23,0.0,0.0,0,0.0,0.0,0.0,-3.0,0.0,0.0,0.0,0.0,0.0,0.0,nan,0.0,0.0,0.0,0.0,0.0,0.0,0.0,0.0,0.0,0.0,0.0,0.0,0.0,0.0,0.0,0.0,0,0.0,0.0,0.0,-3.0,0.0,0.0,0.0,0.0,0.0,0.0,nan,0.0,0.0,0.0,0.0,0.0,0.0,0.0,0.0,0.0,0.0,0.0,0.0,0.0,0.0,0.0,0.0,0.0,0.0,0.0,0.0,-3.0,0.0,0.0,0.0,0.0,0.0,0.0,nan,0.0,0.0,0\n",
      "\n",
      "crossroad6_25,0.0,0.0,0,0.0,0.0,0.0,-3.0,0.0,0.0,0.0,0.0,0.0,0.0,nan,0.0,0.0,0.0,0.0,0.0,0.0,0.0,0.0,0.0,0.0,0.0,0.0,0.0,0.0,0.0,0.0,0,0.0,0.0,0.0,-3.0,0.0,0.0,0.0,0.0,0.0,0.0,nan,0.0,0.0,0.0,0.0,0.0,0.0,0.0,0.0,0.0,0.0,0.0,0.0,0.0,0.0,0.0,0.0,0.0,0.0,0.0,0.0,-3.0,0.0,0.0,0.0,0.0,0.0,0.0,nan,0.0,0.0,0\n",
      "\n",
      "crossroad6_26,0.0,0.0,0,0.0,0.0,0.0,-3.0,0.0,0.0,0.0,0.0,0.0,0.0,nan,0.0,0.0,0.0,0.0,0.0,0.0,0.0,0.0,0.0,0.0,0.0,0.0,0.0,0.0,0.0,0.0,0,0.0,0.0,0.0,-3.0,0.0,0.0,0.0,0.0,0.0,0.0,nan,0.0,0.0,0.0,0.0,0.0,0.0,0.0,0.0,0.0,0.0,0.0,0.0,0.0,0.0,0.0,0.0,0.0,0.0,0.0,0.0,-3.0,0.0,0.0,0.0,0.0,0.0,0.0,nan,0.0,0.0,0\n",
      "\n",
      "crossroad6_27,0.0,0.0,0,0.0,0.0,0.0,-3.0,0.0,0.0,0.0,0.0,0.0,0.0,nan,0.0,0.0,0.0,0.0,0.0,0.0,0.0,0.0,0.0,0.0,0.0,0.0,0.0,0.0,0.0,0.0,0,0.0,0.0,0.0,-3.0,0.0,0.0,0.0,0.0,0.0,0.0,nan,0.0,0.0,0.0,0.0,0.0,0.0,0.0,0.0,0.0,0.0,0.0,0.0,0.0,0.0,0.0,0.0,0.0,0.0,0.0,0.0,-3.0,0.0,0.0,0.0,0.0,0.0,0.0,nan,0.0,0.0,0\n",
      "\n",
      "crossroad6_36,0.0,0.0,0,0.0,0.0,0.0,-3.0,0.0,0.0,0.0,0.0,0.0,0.0,nan,0.0,0.0,0.0,0.0,0.0,0.0,0.0,0.0,0.0,0.0,0.0,0.0,0.0,0.0,0.0,0.0,0,0.0,0.0,0.0,-3.0,0.0,0.0,0.0,0.0,0.0,0.0,nan,0.0,0.0,0.0,0.0,0.0,0.0,0.0,0.0,0.0,0.0,0.0,0.0,0.0,0.0,0.0,0.0,0.0,0.0,0.0,0.0,-3.0,0.0,0.0,0.0,0.0,0.0,0.0,nan,0.0,0.0,0\n",
      "\n",
      "cropped_driving2_3,0.0,0.0,0,0.0,0.0,0.0,-3.0,0.0,0.0,0.0,0.0,0.0,0.0,nan,0.0,0.0,0.0,0.0,0.0,0.0,0.0,0.0,0.0,0.0,0.0,0.0,0.0,0.0,0.0,0.011111111111111112,0,0.019876543209876547,0.14098419489388359,15.62318740715971,278.9015084294587,0.019876543209876547,0.0,0.0,0.0,0.0,0.0,1.8343719702816237,0.0,0.0,0.0,0.0,0.0,0.0,0.0,0.0,0.0,0.0,0.0,0.0,0.0,0.0,0.0,0.0,0.0,0.0,0.0,0.0,-3.0,0.0,0.0,0.0,0.0,0.0,0.0,nan,0.0,0.0,0\n",
      "\n",
      "cropped_driving2_5,0.0,0.0,0,0.0,0.0,0.0,-3.0,0.0,0.0,0.0,0.0,0.0,0.0,nan,0.0,0.0,0.0,0.0,0.0,0.0,0.0,0.0,0.0,0.0,0.0,0.0,0.0,0.0,0.0,0.0,0,0.0,0.0,0.0,-3.0,0.0,0.0,0.0,0.0,0.0,0.0,nan,0.0,0.0,0.0,0.0,0.0,0.0,0.0,0.0,0.0,0.0,0.0,0.0,0.0,0.0,0.0,0.0,0.0,0.0,0.0,0.0,-3.0,0.0,0.0,0.0,0.0,0.0,0.0,nan,0.0,0.0,0\n",
      "\n",
      "cropped_driving2_6,0.0,0.0,0,0.0,0.0,0.0,-3.0,0.0,0.0,0.0,0.0,0.0,0.0,nan,0.0,0.0,0.0,0.0,0.0,0.0,0.0,0.0,0.0,0.0,0.0,0.0,0.0,0.0,0.0,0.0,0,0.0,0.0,0.0,-3.0,0.0,0.0,0.0,0.0,0.0,0.0,nan,0.0,0.0,0.0,0.0,0.0,0.0,0.0,0.0,0.0,0.0,0.0,0.0,0.0,0.0,0.0,0.0,0.0,0.0,0.0,0.0,-3.0,0.0,0.0,0.0,0.0,0.0,0.0,nan,0.0,0.0,0\n",
      "\n",
      "cropped_crossroad4_3_1,1.0,1.0,1,0.0,0.0,0.0,-3.0,0.0,1.0,1.0,1.0,1.0,0.0,6.802394763324314,0.035416666666666666,0.035511217206790124,0.035833333333333335,4.381689758347295e-06,0.0020932486136021433,0.6311955150982022,2.3966506981514373,4.381689758347295e-06,0.03298611111111111,0.034166666666666665,0.03670247395833333,0.038311631944444445,0.002535807291666664,6.80067409636262,0.0,0.0,0,0.0,0.0,0.0,-3.0,0.0,0.0,0.0,0.0,0.0,0.0,nan,1.067663257277734,1.0750122340122568,1.0,0.0020605224961919143,0.0453929784899814,1.745226119020138,8.157285652783637,0.0020605224961919143,1.0229885057471264,1.044938219379189,1.098968064665739,1.1320129739690914,0.05402984528654997,6.801522602133676,0.035416666666666666,0.035511217206790124,0.035833333333333335,4.381689758347295e-06,0.0020932486136021433,0.6311955150982022,2.3966506981514373,4.381689758347295e-06,0.03298611111111111,0.034166666666666665,0.03670247395833333,0.038311631944444445,0.002535807291666664,6.80067409636262,1.0,0.0011111111111111111,1\n",
      "\n",
      "cropped_crossroad4_3_12,1.0,1.0,1,0.0,0.0,0.0,-3.0,0.0,1.0,1.0,1.0,1.0,0.0,6.802394763324314,0.023697916666666666,0.02384862075617284,0.023394097222222222,1.8199180018118723e-06,0.0013490433654304343,0.02877717983433442,-0.34459961753623913,1.8199180018118723e-06,0.022158854166666665,0.023020833333333334,0.024913194444444446,0.025577256944444446,0.001892361111111112,6.800793439531784,0.0,0.0,0,0.0,0.0,0.0,-3.0,0.0,0.0,0.0,0.0,0.0,0.0,nan,1.0420620373688094,1.051040282794889,1.0,0.0015445279743349783,0.03930048313106314,1.84008043246766,7.099015781659389,0.0015445279743349783,1.0121951219512195,1.025974025974026,1.069797138650959,1.0981966951382642,0.04382311267693306,6.80171023932572,0.023697916666666666,0.02384862075617284,0.023394097222222222,1.8199180018118723e-06,0.0013490433654304343,0.02877717983433442,-0.34459961753623913,1.8199180018118723e-06,0.022158854166666665,0.023020833333333334,0.024913194444444446,0.025577256944444446,0.001892361111111112,6.800793439531784,1.0,0.0011111111111111111,1\n",
      "\n"
     ]
    }
   ],
   "source": [
    "all_feature_names, moving, video_to_delete, selected_video, glimpse_video_to_delete = initialization()\n",
    "path = '../feature_analysis/video_features_30s/'\n",
    "# feature_file = path + 'features_all_type_width_height_filter.csv'\n",
    "feature_file = path + 'allvideo_features_long_add_width_20_filter.csv'\n",
    "features = read_feature(feature_file)"
   ]
  },
  {
   "cell_type": "code",
   "execution_count": 5,
   "metadata": {},
   "outputs": [],
   "source": [
    "# load videostorm and glimpse performance\n",
    "# load selected videos\n",
    "\n",
    "def AW_parser(path):\n",
    "    perf = {}\n",
    "    with open(path, 'r') as f:\n",
    "        f.readline()\n",
    "        for line in f:\n",
    "            line_list = line.strip().split(',')\n",
    "            dataset_name = line_list[0].replace('_' + \n",
    "                           line_list[0].split('_')[-1], '')\n",
    "            key = line_list[0]\n",
    "            resol = int(line_list[2].replace('p', ''))\n",
    "            f1 = float(line_list[3])\n",
    "            bw = float(line_list[4])\n",
    "            perf[key] = (bw, f1, resol)\n",
    "    return perf\n",
    "\n",
    "def VG_parser(path):\n",
    "    perf = {}\n",
    "    for file in glob.glob(path + 'vigil_*.csv'):\n",
    "        with open(file, 'r') as f:\n",
    "            f.readline()\n",
    "            for line in f:\n",
    "                line_list = line.strip().split(',')\n",
    "                dataset_name = line_list[0].replace('_' + \\\n",
    "                                line_list[0].split('_')[-1], '')\n",
    "                f1 = float(line_list[1])\n",
    "                gpu = float(line_list[2])\n",
    "                area = float(line_list[3])\n",
    "                true_area = float(line_list[4])\n",
    "                perf[line_list[0]]= (gpu, f1, area, true_area)\n",
    "    return perf \n",
    "\n",
    "\n",
    "\n",
    "aw_path = './awstream/awstream_selected_video_resol_0.9_label_merge_add_width_20_filter.csv'\n",
    "aw_perf = AW_parser(aw_path)\n",
    "vg_path = './vigil/vigil_mobilenet_results_10_11/'\n",
    "vg_perf = VG_parser(vg_path)"
   ]
  },
  {
   "cell_type": "code",
   "execution_count": 6,
   "metadata": {},
   "outputs": [
    {
     "name": "stdout",
     "output_type": "stream",
     "text": [
      "['crossroad_14', 'crossroad2_74', 'driving_downtown_33', 'segment-12866817684252793621_480_000_500_000', 'segment-10723911392655396041_860_000_880_000', 'segment-6038200663843287458_283_000_303_000', 'segment-6128311556082453976_2520_000_2540_000', 'segment-7517545172000568481_2325_000_2345_000', 'segment-7861168750216313148_1305_290_1325_290', 'segment-4167304237516228486_5720_000_5740_000', 'segment-9415086857375798767_4760_000_4780_000', 'segment-3451017128488170637_5280_000_5300_000', 'segment-16153607877566142572_2262_000_2282_000', 'segment-16105359875195888139_4420_000_4440_000', 'segment-2681180680221317256_1144_000_1164_000', 'segment-5990032395956045002_6600_000_6620_000', 'segment-5302885587058866068_320_000_340_000', 'segment-4759225533437988401_800_000_820_000', 'segment-15533468984793020049_800_000_820_000_with_camera_labels', 'segment-14233522945839943589_100_000_120_000_with_camera_labels', 'segment-15578655130939579324_620_000_640_000_with_camera_labels', 'segment-13476374534576730229_240_000_260_000', 'segment-17244566492658384963_2540_000_2560_000', 'segment-4487677815262010875_4940_000_4960_000', 'segment-4916527289027259239_5180_000_5200_000', 'segment-4641822195449131669_380_000_400_000', 'segment-8327447186504415549_5200_000_5220_000', 'segment-8207498713503609786_3005_450_3025_450', 'segment-5222336716599194110_8940_000_8960_000', 'segment-4986495627634617319_2980_000_3000_000', 'segment-2064489349728221803_3060_000_3080_000_with_camera_labels', 'segment-3908622028474148527_3480_000_3500_000_with_camera_labels', 'segment-2922309829144504838_1840_000_1860_000', 'segment-15834329472172048691_2956_760_2976_760', 'segment-17386718718413812426_1763_140_1783_140', 'segment-17066133495361694802_1220_000_1240_000', 'segment-12161824480686739258_1813_380_1833_380', 'segment-11918003324473417938_1400_000_1420_000', 'segment-11037651371539287009_77_670_97_670_with_camera_labels', 'segment-16213317953898915772_1597_170_1617_170_with_camera_labels']\n"
     ]
    }
   ],
   "source": [
    "# load selected videos for GL and VS\n",
    "selected_video_path = './video_selection_results/'\n",
    "selected_videos = []\n",
    "with open(selected_video_path + 'aws_video_selection.csv', 'r') as f:\n",
    "    f.readline()\n",
    "    for line in f:\n",
    "        line_list = line.strip().split(',')\n",
    "        if line_list[3] == '':\n",
    "            break\n",
    "        selected_videos.append(line_list[3])\n",
    "        \n",
    "print(selected_videos)"
   ]
  },
  {
   "cell_type": "code",
   "execution_count": 9,
   "metadata": {},
   "outputs": [],
   "source": [
    "perf1 = []\n",
    "perf2 = []\n",
    "feature1 = []\n",
    "feature2 = []\n",
    "for key in selected_videos:\n",
    "    if key not in features or key not in aw_perf or key not in vg_perf:\n",
    "        continue\n",
    "    feature1.append(features[key][all_feature_names.index('velocity_avg')])\n",
    "    feature2.append(features[key][all_feature_names.index('percentage')])\n",
    "    perf1.append(aw_perf[key][0])\n",
    "    perf2.append(vg_perf[key][0])"
   ]
  },
  {
   "cell_type": "code",
   "execution_count": 16,
   "metadata": {},
   "outputs": [
    {
     "data": {
      "image/png": "[encoded data removed]",
      "text/plain": [
       "<Figure size 432x288 with 1 Axes>"
      ]
     },
     "metadata": {
      "needs_background": "light"
     },
     "output_type": "display_data"
    }
   ],
   "source": [
    "feature = feature1\n",
    "aw_perf_bucket = bucketize_feature(feature, perf1)\n",
    "vg_perf_bccket = bucketize_feature(feature, perf2)\n",
    "fig, ax = plt.subplots()\n",
    "aw_all_percentile = []\n",
    "vg_all_percentile = []\n",
    "xticks =  []\n",
    "for key in sorted(aw_perf_bucket.keys())[1:]:\n",
    "    xticks.append(format(key, '02.2f'))\n",
    "    current_perf = aw_perf_bucket[key]\n",
    "    percentile = compute_percentiel(current_perf)\n",
    "    aw_all_percentile.append(percentile)\n",
    "    current_perf = vg_perf_bccket[key]\n",
    "    percentile = compute_percentiel(current_perf)\n",
    "    vg_all_percentile.append(percentile)\n",
    "ax.boxplot(vg_all_percentile,showfliers=False, patch_artist=True)\n",
    "bp = ax.boxplot(aw_all_percentile,showfliers=False, patch_artist=True)\n",
    "for patch in bp['boxes']:\n",
    "    patch.set(facecolor='r') \n",
    "plt.xticks(np.arange(1, len(aw_all_percentile) + 1), xticks)      \n",
    "plt.show()\n",
    "\n",
    "\n"
   ]
  },
  {
   "cell_type": "code",
   "execution_count": 15,
   "metadata": {},
   "outputs": [
    {
     "data": {
      "image/png": "[encoded data removed]",
      "text/plain": [
       "<Figure size 432x288 with 1 Axes>"
      ]
     },
     "metadata": {
      "needs_background": "light"
     },
     "output_type": "display_data"
    }
   ],
   "source": [
    "feature = feature2\n",
    "aw_perf_bucket = bucketize_feature(feature, perf1)\n",
    "vg_perf_bccket = bucketize_feature(feature, perf2)\n",
    "fig, ax = plt.subplots()\n",
    "aw_all_percentile = []\n",
    "vg_all_percentile = []\n",
    "xticks =  []\n",
    "for key in sorted(aw_perf_bucket.keys())[1:]:\n",
    "    xticks.append(format(key, '02.2f'))\n",
    "    current_perf = aw_perf_bucket[key]\n",
    "    percentile = compute_percentiel(current_perf)\n",
    "    aw_all_percentile.append(percentile)\n",
    "    current_perf = vg_perf_bccket[key]\n",
    "    percentile = compute_percentiel(current_perf)\n",
    "    vg_all_percentile.append(percentile)\n",
    "ax.boxplot(vg_all_percentile,showfliers=False, patch_artist=True)\n",
    "bp = ax.boxplot(aw_all_percentile,showfliers=False, patch_artist=True)\n",
    "for patch in bp['boxes']:\n",
    "    patch.set(facecolor='r') \n",
    "plt.xticks(np.arange(1, len(aw_all_percentile) + 1), xticks)      \n",
    "plt.show()\n",
    "\n"
   ]
  },
  {
   "cell_type": "code",
   "execution_count": null,
   "metadata": {},
   "outputs": [],
   "source": [
    "for i in range(len(feature1)):\n",
    "    if perf1[i] > perf2[i]:\n",
    "        plt.scatter(feature2[i], feature1[i], c = 'r')\n",
    "    if perf1[i] < perf2[i]:\n",
    "        plt.scatter(feature2[i], feature1[i], c = 'b')"
   ]
  },
  {
   "cell_type": "code",
   "execution_count": null,
   "metadata": {},
   "outputs": [],
   "source": []
  }
 ],
 "metadata": {
  "kernelspec": {
   "display_name": "newenv",
   "language": "python",
   "name": "newenv"
  },
  "language_info": {
   "codemirror_mode": {
    "name": "ipython",
    "version": 3
   },
   "file_extension": ".py",
   "mimetype": "text/x-python",
   "name": "python",
   "nbconvert_exporter": "python",
   "pygments_lexer": "ipython3",
   "version": "3.6.9"
  }
 },
 "nbformat": 4,
 "nbformat_minor": 2
}
