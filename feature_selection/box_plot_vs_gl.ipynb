{
 "cells": [
  {
   "cell_type": "code",
   "execution_count": 23,
   "metadata": {},
   "outputs": [],
   "source": [
    "from pipeline_performance_loader import initialization, read_feature\n",
    "import glob\n",
    "from collections import defaultdict\n",
    "import numpy as np\n",
    "import math\n",
    "from matplotlib import pyplot as plt"
   ]
  },
  {
   "cell_type": "code",
   "execution_count": 6,
   "metadata": {},
   "outputs": [],
   "source": [
    "def compute_percentiel(data):\n",
    "\tpercentile = []\n",
    "\tfor i in [5, 25, 50, 75, 95]:\n",
    "\t\tpercentile.append(np.percentile(data, i))\n",
    "\n",
    "\treturn percentile\n",
    "\n",
    "\n",
    "def bucketize_feature(feature, perf, num_of_bucket=4):\n",
    "\tfeature_range = (min(feature), max(feature))\n",
    "\tfeatuer_list = []\n",
    "\tperf_list = []\n",
    "\tfeature_bins = np.logspace(math.log10(feature_range[0]), math.log10(feature_range[1]), num=num_of_bucket+1)\n",
    "\tperf_bucket = defaultdict(list)\n",
    "\tfor i in range(len(feature)):\n",
    "\t\tcurrent_feature = feature[i]\n",
    "\t\tprint(current_feature)\n",
    "\t\tif current_feature >= feature_bins[-1]:\n",
    "\t\t\tcurrent_bin = len(feature_bins) - 1 \n",
    "\t\telse:\n",
    "\t\t\tcurrent_bin = next(x[0] for x in enumerate(feature_bins) \n",
    "\t\t\t\t\t\t\t\tif x[1] >= current_feature)\n",
    "\n",
    "\t\tperf_bucket[feature_bins[current_bin]].append(perf[i])\n",
    "\n",
    "\n",
    "\treturn perf_bucket"
   ]
  },
  {
   "cell_type": "code",
   "execution_count": 7,
   "metadata": {},
   "outputs": [
    {
     "name": "stdout",
     "output_type": "stream",
     "text": [
      "driving2_3,0.0,0.0,0,0.0,0.0,0.0,-3.0,0.0,0.0,0.0,0.0,0.0,0.0,nan,0.0,0.0,0.0,0.0,0.0,0.0,0.0,0.0,0.0,0.0,0.0,0.0,0.0,0.0,0.0,0.017777777777777778,0,0.03079506172839507,0.17548521797688565,10.38655522428052,109.89372638584705,0.03079506172839507,0.0,0.0,0.0,0.0,0.0,2.252728336819822,0.0,0.0,0.0,0.0,0.0,0.0,0.0,0.0,0.0,0.0,0.0,0.0,0.0,0.0,0.0,0.0,0.0,0.0,0.0,0.0,-3.0,0.0,0.0,0.0,0.0,0.0,0.0,nan,0.0,0.0,0\n",
      "\n",
      "driving2_8,0.0,0.0,0,0.0,0.0,0.0,-3.0,0.0,0.0,0.0,0.0,0.0,0.0,nan,0.0,0.0,0.0,0.0,0.0,0.0,0.0,0.0,0.0,0.0,0.0,0.0,0.0,0.0,0.0,0.0,0,0.0,0.0,0.0,-3.0,0.0,0.0,0.0,0.0,0.0,0.0,nan,0.0,0.0,0.0,0.0,0.0,0.0,0.0,0.0,0.0,0.0,0.0,0.0,0.0,0.0,0.0,0.0,0.0,0.0,0.0,0.0,-3.0,0.0,0.0,0.0,0.0,0.0,0.0,nan,0.0,0.0,0\n",
      "\n",
      "driving2_27,0.0,0.0,0,0.0,0.0,0.0,-3.0,0.0,0.0,0.0,0.0,0.0,0.0,nan,0.0,0.0,0.0,0.0,0.0,0.0,0.0,0.0,0.0,0.0,0.0,0.0,0.0,0.0,0.0,0.0,0,0.0,0.0,0.0,-3.0,0.0,0.0,0.0,0.0,0.0,0.0,nan,0.0,0.0,0.0,0.0,0.0,0.0,0.0,0.0,0.0,0.0,0.0,0.0,0.0,0.0,0.0,0.0,0.0,0.0,0.0,0.0,-3.0,0.0,0.0,0.0,0.0,0.0,0.0,nan,0.0,0.0,0\n",
      "\n",
      "crossroad7_18,1.0,1.0,1,0.0,0.0,0.0,-3.0,0.0,1.0,1.0,1.0,1.0,0.0,6.802394763324314,0.072109375,0.07194850983796296,0.07267252604166667,2.729615783482095e-06,0.0016521548908870788,-1.1857641766666798,5.024720913803108,2.729615783482095e-06,0.070234375,0.07104275173611112,0.07292751736111111,0.07354817708333333,0.0018847656249999928,6.802128525381364,0.0,0.0,0,0.0,0.0,0.0,-3.0,0.0,0.0,0.0,0.0,0.0,0.0,nan,1.012218093273594,1.0191085241861841,1.0,0.0003076611029340436,0.017540270891124903,1.9255601262040638,4.531836257447585,0.0003076611029340436,1.0035829493087558,1.0077898095938829,1.0243618516967432,1.0445181283270557,0.01657204210286034,6.802248230691976,0.072109375,0.07194850983796296,0.07267252604166667,2.729615783482095e-06,0.0016521548908870788,-1.1857641766666798,5.024720913803108,2.729615783482095e-06,0.070234375,0.07104275173611112,0.07292751736111111,0.07354817708333333,0.0018847656249999928,6.802128525381364,1.0,0.0011111111111111111,1\n",
      "\n",
      "crossroad6_2,0.0,0.1622222222222222,0,0.13590617283950612,0.36865454403751236,1.8324894307740178,1.3580175138984805,0.13590617283950612,0.0,0.0,0.0,1.0,0.0,4.983606621708338,0.008813476562499999,0.009193563011320396,0.0032573784722222223,1.2408975781655793e-05,0.003522637617135176,0.518036005616243,-0.5953491970250844,1.2408975781655793e-05,0.005060763888888889,0.006407877604166666,0.011327039930555557,0.01489474826388889,0.004919162326388891,4.911074298627176,0.0,0.0,0,0.0,0.0,0.0,-3.0,0.0,0.0,0.0,0.0,0.0,0.0,nan,1.3277991324982144,1.3495040207880962,1.1092436974789917,0.013213697587146007,0.11495084857079571,1.482046377509159,5.97052063531342,0.013213697587146007,1.2144168798415056,1.2827003486673654,1.4095395818651633,1.4755032393713052,0.12683923319779788,4.980099082022633,0.0,0.0014914002218364198,0.0,1.350001891965856e-05,0.003674237188813286,2.450092533365193,5.037278722748349,1.350001891965856e-05,0.0,0.0,0.0,0.0077988281250000015,0.0,4.911074298627176,0.1622222222222222,0.0011111111111111111,1\n",
      "\n",
      "crossroad6_11,0.0,0.0,0,0.0,0.0,0.0,-3.0,0.0,0.0,0.0,0.0,0.0,0.0,nan,0.0,0.0,0.0,0.0,0.0,0.0,0.0,0.0,0.0,0.0,0.0,0.0,0.0,0.0,0.0,0.0,0,0.0,0.0,0.0,-3.0,0.0,0.0,0.0,0.0,0.0,0.0,nan,0.0,0.0,0.0,0.0,0.0,0.0,0.0,0.0,0.0,0.0,0.0,0.0,0.0,0.0,0.0,0.0,0.0,0.0,0.0,0.0,-3.0,0.0,0.0,0.0,0.0,0.0,0.0,nan,0.0,0.0,0\n",
      "\n",
      "crossroad6_13,0.0,0.0,0,0.0,0.0,0.0,-3.0,0.0,0.0,0.0,0.0,0.0,0.0,nan,0.0,0.0,0.0,0.0,0.0,0.0,0.0,0.0,0.0,0.0,0.0,0.0,0.0,0.0,0.0,0.0,0,0.0,0.0,0.0,-3.0,0.0,0.0,0.0,0.0,0.0,0.0,nan,0.0,0.0,0.0,0.0,0.0,0.0,0.0,0.0,0.0,0.0,0.0,0.0,0.0,0.0,0.0,0.0,0.0,0.0,0.0,0.0,-3.0,0.0,0.0,0.0,0.0,0.0,0.0,nan,0.0,0.0,0\n",
      "\n",
      "crossroad6_14,0.0,0.0,0,0.0,0.0,0.0,-3.0,0.0,0.0,0.0,0.0,0.0,0.0,nan,0.0,0.0,0.0,0.0,0.0,0.0,0.0,0.0,0.0,0.0,0.0,0.0,0.0,0.0,0.0,0.0,0,0.0,0.0,0.0,-3.0,0.0,0.0,0.0,0.0,0.0,0.0,nan,0.0,0.0,0.0,0.0,0.0,0.0,0.0,0.0,0.0,0.0,0.0,0.0,0.0,0.0,0.0,0.0,0.0,0.0,0.0,0.0,-3.0,0.0,0.0,0.0,0.0,0.0,0.0,nan,0.0,0.0,0\n",
      "\n",
      "crossroad6_20,0.0,0.0,0,0.0,0.0,0.0,-3.0,0.0,0.0,0.0,0.0,0.0,0.0,nan,0.0,0.0,0.0,0.0,0.0,0.0,0.0,0.0,0.0,0.0,0.0,0.0,0.0,0.0,0.0,0.0,0,0.0,0.0,0.0,-3.0,0.0,0.0,0.0,0.0,0.0,0.0,nan,0.0,0.0,0.0,0.0,0.0,0.0,0.0,0.0,0.0,0.0,0.0,0.0,0.0,0.0,0.0,0.0,0.0,0.0,0.0,0.0,-3.0,0.0,0.0,0.0,0.0,0.0,0.0,nan,0.0,0.0,0\n",
      "\n",
      "crossroad6_22,0.0,0.31555555555555553,0,0.21598024691358028,0.4647367501215933,0.7937588081690828,-1.3699469544539975,0.21598024691358028,0.0,0.0,1.0,1.0,1.0,5.648974238161207,0.0221875,0.056152148895980046,0.0193359375,0.0024630831673250245,0.04962945866443663,0.8170677995653032,-0.9433023572529904,0.0024630831673250245,0.013821506076388889,0.0188671875,0.0993967013888889,0.14016981336805556,0.0805295138888889,5.280901171562978,0.0,0.0,0,0.0,0.0,0.0,-3.0,0.0,0.0,0.0,0.0,0.0,0.0,nan,1.1508952794357026,1.1656497009154427,1.1747820254862509,0.006946573585755908,0.08334610720217177,0.7436877827871023,0.04507092719811645,0.006946573585755908,1.0697978979559704,1.1011955707835153,1.2218141222170864,1.2887019981366636,0.12061855143357114,5.628694658520913,0.0,0.01771912254050926,0.0,0.001458239080839994,0.03818689671654393,2.4286110069640716,4.725003277468641,0.001458239080839994,0.0,0.0,0.01784206814236111,0.0714296875,0.01784206814236111,5.280901171562977,0.31555555555555553,0.0011111111111111111,1\n",
      "\n",
      "crossroad6_23,0.0,0.0,0,0.0,0.0,0.0,-3.0,0.0,0.0,0.0,0.0,0.0,0.0,nan,0.0,0.0,0.0,0.0,0.0,0.0,0.0,0.0,0.0,0.0,0.0,0.0,0.0,0.0,0.0,0.0,0,0.0,0.0,0.0,-3.0,0.0,0.0,0.0,0.0,0.0,0.0,nan,0.0,0.0,0.0,0.0,0.0,0.0,0.0,0.0,0.0,0.0,0.0,0.0,0.0,0.0,0.0,0.0,0.0,0.0,0.0,0.0,-3.0,0.0,0.0,0.0,0.0,0.0,0.0,nan,0.0,0.0,0\n",
      "\n",
      "crossroad6_25,0.0,0.0,0,0.0,0.0,0.0,-3.0,0.0,0.0,0.0,0.0,0.0,0.0,nan,0.0,0.0,0.0,0.0,0.0,0.0,0.0,0.0,0.0,0.0,0.0,0.0,0.0,0.0,0.0,0.0,0,0.0,0.0,0.0,-3.0,0.0,0.0,0.0,0.0,0.0,0.0,nan,0.0,0.0,0.0,0.0,0.0,0.0,0.0,0.0,0.0,0.0,0.0,0.0,0.0,0.0,0.0,0.0,0.0,0.0,0.0,0.0,-3.0,0.0,0.0,0.0,0.0,0.0,0.0,nan,0.0,0.0,0\n",
      "\n",
      "crossroad6_26,0.0,0.0,0,0.0,0.0,0.0,-3.0,0.0,0.0,0.0,0.0,0.0,0.0,nan,0.0,0.0,0.0,0.0,0.0,0.0,0.0,0.0,0.0,0.0,0.0,0.0,0.0,0.0,0.0,0.0,0,0.0,0.0,0.0,-3.0,0.0,0.0,0.0,0.0,0.0,0.0,nan,0.0,0.0,0.0,0.0,0.0,0.0,0.0,0.0,0.0,0.0,0.0,0.0,0.0,0.0,0.0,0.0,0.0,0.0,0.0,0.0,-3.0,0.0,0.0,0.0,0.0,0.0,0.0,nan,0.0,0.0,0\n",
      "\n",
      "crossroad6_27,0.0,0.0,0,0.0,0.0,0.0,-3.0,0.0,0.0,0.0,0.0,0.0,0.0,nan,0.0,0.0,0.0,0.0,0.0,0.0,0.0,0.0,0.0,0.0,0.0,0.0,0.0,0.0,0.0,0.0,0,0.0,0.0,0.0,-3.0,0.0,0.0,0.0,0.0,0.0,0.0,nan,0.0,0.0,0.0,0.0,0.0,0.0,0.0,0.0,0.0,0.0,0.0,0.0,0.0,0.0,0.0,0.0,0.0,0.0,0.0,0.0,-3.0,0.0,0.0,0.0,0.0,0.0,0.0,nan,0.0,0.0,0\n",
      "\n",
      "crossroad6_36,0.0,0.0,0,0.0,0.0,0.0,-3.0,0.0,0.0,0.0,0.0,0.0,0.0,nan,0.0,0.0,0.0,0.0,0.0,0.0,0.0,0.0,0.0,0.0,0.0,0.0,0.0,0.0,0.0,0.0,0,0.0,0.0,0.0,-3.0,0.0,0.0,0.0,0.0,0.0,0.0,nan,0.0,0.0,0.0,0.0,0.0,0.0,0.0,0.0,0.0,0.0,0.0,0.0,0.0,0.0,0.0,0.0,0.0,0.0,0.0,0.0,-3.0,0.0,0.0,0.0,0.0,0.0,0.0,nan,0.0,0.0,0\n",
      "\n",
      "cropped_driving2_3,0.0,0.0,0,0.0,0.0,0.0,-3.0,0.0,0.0,0.0,0.0,0.0,0.0,nan,0.0,0.0,0.0,0.0,0.0,0.0,0.0,0.0,0.0,0.0,0.0,0.0,0.0,0.0,0.0,0.011111111111111112,0,0.019876543209876547,0.14098419489388359,15.62318740715971,278.9015084294587,0.019876543209876547,0.0,0.0,0.0,0.0,0.0,1.8343719702816237,0.0,0.0,0.0,0.0,0.0,0.0,0.0,0.0,0.0,0.0,0.0,0.0,0.0,0.0,0.0,0.0,0.0,0.0,0.0,0.0,-3.0,0.0,0.0,0.0,0.0,0.0,0.0,nan,0.0,0.0,0\n",
      "\n",
      "cropped_driving2_5,0.0,0.0,0,0.0,0.0,0.0,-3.0,0.0,0.0,0.0,0.0,0.0,0.0,nan,0.0,0.0,0.0,0.0,0.0,0.0,0.0,0.0,0.0,0.0,0.0,0.0,0.0,0.0,0.0,0.0,0,0.0,0.0,0.0,-3.0,0.0,0.0,0.0,0.0,0.0,0.0,nan,0.0,0.0,0.0,0.0,0.0,0.0,0.0,0.0,0.0,0.0,0.0,0.0,0.0,0.0,0.0,0.0,0.0,0.0,0.0,0.0,-3.0,0.0,0.0,0.0,0.0,0.0,0.0,nan,0.0,0.0,0\n",
      "\n",
      "cropped_driving2_6,0.0,0.0,0,0.0,0.0,0.0,-3.0,0.0,0.0,0.0,0.0,0.0,0.0,nan,0.0,0.0,0.0,0.0,0.0,0.0,0.0,0.0,0.0,0.0,0.0,0.0,0.0,0.0,0.0,0.0,0,0.0,0.0,0.0,-3.0,0.0,0.0,0.0,0.0,0.0,0.0,nan,0.0,0.0,0.0,0.0,0.0,0.0,0.0,0.0,0.0,0.0,0.0,0.0,0.0,0.0,0.0,0.0,0.0,0.0,0.0,0.0,-3.0,0.0,0.0,0.0,0.0,0.0,0.0,nan,0.0,0.0,0\n",
      "\n",
      "cropped_crossroad4_3_1,1.0,1.0,1,0.0,0.0,0.0,-3.0,0.0,1.0,1.0,1.0,1.0,0.0,6.802394763324314,0.035416666666666666,0.035511217206790124,0.035833333333333335,4.381689758347295e-06,0.0020932486136021433,0.6311955150982022,2.3966506981514373,4.381689758347295e-06,0.03298611111111111,0.034166666666666665,0.03670247395833333,0.038311631944444445,0.002535807291666664,6.80067409636262,0.0,0.0,0,0.0,0.0,0.0,-3.0,0.0,0.0,0.0,0.0,0.0,0.0,nan,1.067663257277734,1.0750122340122568,1.0,0.0020605224961919143,0.0453929784899814,1.745226119020138,8.157285652783637,0.0020605224961919143,1.0229885057471264,1.044938219379189,1.098968064665739,1.1320129739690914,0.05402984528654997,6.801522602133676,0.035416666666666666,0.035511217206790124,0.035833333333333335,4.381689758347295e-06,0.0020932486136021433,0.6311955150982022,2.3966506981514373,4.381689758347295e-06,0.03298611111111111,0.034166666666666665,0.03670247395833333,0.038311631944444445,0.002535807291666664,6.80067409636262,1.0,0.0011111111111111111,1\n",
      "\n",
      "cropped_crossroad4_3_12,1.0,1.0,1,0.0,0.0,0.0,-3.0,0.0,1.0,1.0,1.0,1.0,0.0,6.802394763324314,0.023697916666666666,0.02384862075617284,0.023394097222222222,1.8199180018118723e-06,0.0013490433654304343,0.02877717983433442,-0.34459961753623913,1.8199180018118723e-06,0.022158854166666665,0.023020833333333334,0.024913194444444446,0.025577256944444446,0.001892361111111112,6.800793439531784,0.0,0.0,0,0.0,0.0,0.0,-3.0,0.0,0.0,0.0,0.0,0.0,0.0,nan,1.0420620373688094,1.051040282794889,1.0,0.0015445279743349783,0.03930048313106314,1.84008043246766,7.099015781659389,0.0015445279743349783,1.0121951219512195,1.025974025974026,1.069797138650959,1.0981966951382642,0.04382311267693306,6.80171023932572,0.023697916666666666,0.02384862075617284,0.023394097222222222,1.8199180018118723e-06,0.0013490433654304343,0.02877717983433442,-0.34459961753623913,1.8199180018118723e-06,0.022158854166666665,0.023020833333333334,0.024913194444444446,0.025577256944444446,0.001892361111111112,6.800793439531784,1.0,0.0011111111111111111,1\n",
      "\n"
     ]
    }
   ],
   "source": [
    "all_feature_names, moving, video_to_delete, selected_video, glimpse_video_to_delete = initialization()\n",
    "path = '../feature_analysis/video_features_30s/'\n",
    "# feature_file = path + 'features_all_type_width_height_filter.csv'\n",
    "feature_file = path + 'allvideo_features_long_add_width_20_filter.csv'\n",
    "features = read_feature(feature_file)"
   ]
  },
  {
   "cell_type": "code",
   "execution_count": 9,
   "metadata": {},
   "outputs": [],
   "source": [
    "# load videostorm and glimpse performance\n",
    "# load selected videos\n",
    "def VS_parser(path):\n",
    "    perf = {}\n",
    "    for file in glob.glob(path + 'videostorm_*.csv'):\n",
    "        with open(file, 'r') as f:\n",
    "            f.readline()\n",
    "            for line in f:\n",
    "                line_list = line.strip().split(',')\n",
    "                f1 = float(line_list[2])\n",
    "                gpu = float(line_list[1])\n",
    "                perf[line_list[0]] = (gpu, f1)\n",
    "    return perf\n",
    "\n",
    "def GL_parser(path, video_to_delete, moving):\n",
    "    perf = defaultdict(list)\n",
    "    moving_or_not = {}\n",
    "    for file in glob.glob(path + 'glimpse_*.csv'):\n",
    "        dataset = file.split('_')[-1].replace('.csv', '')\n",
    "        if dataset in video_to_delete:\n",
    "            continue\n",
    "        with open(file, 'r') as f:\n",
    "            f.readline()\n",
    "            for line in f:\n",
    "                line_list = line.strip().split(',')\n",
    "                f1 = float(line_list[3])\n",
    "                gpu = float(line_list[4])\n",
    "                if dataset in moving:\n",
    "                    moving_or_not[line_list[0]] = 1\n",
    "                else:\n",
    "                    moving_or_not[line_list[0]] = 0\n",
    "                perf[line_list[0]] = (gpu, f1, float(line_list[5]))\n",
    "    return perf, moving_or_not\n",
    "\n",
    "\n",
    "\n",
    "vs_path = './VS_overfitting/'\n",
    "vs_perf = VS_parser(vs_path)\n",
    "gl_path = './glimpse_overfitting/'\n",
    "gl_perf, _ = GL_parser(gl_path, glimpse_video_to_delete, moving)"
   ]
  },
  {
   "cell_type": "code",
   "execution_count": 10,
   "metadata": {},
   "outputs": [
    {
     "name": "stdout",
     "output_type": "stream",
     "text": [
      "['crossroad2_63', 'drift_0', 'drift_2', 'drift_6', 'drift_9', 'drift_13', 'drift_19', 'drift_24', 'drift_25', 'drift_26', 'drift_28', 'drift_29', 'drift_30', 'driving1_8', 'driving1_19', 'driving1_32', 'nyc_2', 'jp_4', 'jp_17', 'driving2_11', 'driving2_13', 'driving2_21', 'driving2_26', 'driving2_29', 'driving2_36', 'driving2_38', 'park_2', 'park_12', 'park_17', 'park_30', 'park_38', 'russia_6', 'russia_7', 'russia1_9', 'russia1_17', 'russia1_38', 'segment-10206293520369375008_2796_800_2816_800_with_camera_labels', 'segment-11004685739714500220_2300_000_2320_000_with_camera_labels', 'segment-12681651284932598380_3585_280_3605_280', 'segment-12974838039736660070_4586_990_4606_990', 'segment-13177337129001451839_9160_000_9180_000', 'segment-13258835835415292197_965_000_985_000', 'segment-14098605172844003779_5084_630_5104_630', 'segment-14466332043440571514_6530_560_6550_560', 'segment-14742731916935095621_1325_000_1345_000', 'segment-15367782110311024266_2103_310_2123_310', 'segment-2590213596097851051_460_000_480_000', 'segment-2692887320656885771_2480_000_2500_000', 'segment-3418007171190630157_3585_530_3605_530', 'segment-3437741670889149170_1411_550_1431_550', 'segment-6814918034011049245_134_170_154_170', 'segment-759208896257112298_184_000_204_000', 'segment-809159138284604331_3355_840_3375_840', 'segment-17135518413411879545_1480_000_1500_000']\n"
     ]
    }
   ],
   "source": [
    "# load selected videos for GL and VS\n",
    "selected_video_path = './video_selection_results/'\n",
    "selected_videos = []\n",
    "with open(selected_video_path + 'vs_video_selection.csv', 'r') as f:\n",
    "    f.readline()\n",
    "    for line in f:\n",
    "        line_list = line.strip().split(',')\n",
    "        if line_list[3] == '':\n",
    "            break\n",
    "        selected_videos.append(line_list[3])\n",
    "        \n",
    "print(selected_videos)"
   ]
  },
  {
   "cell_type": "code",
   "execution_count": 31,
   "metadata": {},
   "outputs": [],
   "source": [
    "perf1 = []\n",
    "perf2 = []\n",
    "feature1 = []\n",
    "feature2 = []\n",
    "for key in selected_videos:\n",
    "    if key not in features or key not in vs_perf or key not in gl_perf:\n",
    "        continue\n",
    "    feature1.append(features[key][all_feature_names.index('velocity_avg')])\n",
    "    feature2.append(features[key][all_feature_names.index('percentage')])\n",
    "    perf1.append(vs_perf[key][0])\n",
    "    perf2.append(gl_perf[key][0])"
   ]
  },
  {
   "cell_type": "code",
   "execution_count": 32,
   "metadata": {},
   "outputs": [
    {
     "name": "stdout",
     "output_type": "stream",
     "text": [
      "1.2440845712447097\n",
      "2.411618713784495\n",
      "2.468250527097136\n",
      "2.613832014973827\n",
      "2.5896414049427605\n",
      "2.5503760825364328\n",
      "2.3401732971076594\n",
      "2.4044641956900135\n",
      "2.108877608288165\n",
      "2.080275619878196\n",
      "2.2152176743155745\n",
      "2.297922363056342\n",
      "2.2094620704036583\n",
      "1.874726998886678\n",
      "1.847117052680119\n",
      "1.2218927843772265\n",
      "1.1532966044960986\n",
      "1.2889506112352487\n",
      "1.3584307440997216\n",
      "1.561244560303397\n",
      "1.1852962213514868\n",
      "1.4238745644475186\n",
      "1.3033577555229041\n",
      "1.786587958739695\n",
      "1.785091690020077\n",
      "1.9888087772641363\n",
      "1.6099926084376042\n",
      "2.143030114763649\n",
      "1.9744020379256524\n",
      "1.7917740102433801\n",
      "1.5154240777877128\n",
      "1.8680312450841343\n",
      "1.9129691320639406\n",
      "2.314097620485541\n",
      "1.2440845712447097\n",
      "2.411618713784495\n",
      "2.468250527097136\n",
      "2.613832014973827\n",
      "2.5896414049427605\n",
      "2.5503760825364328\n",
      "2.3401732971076594\n",
      "2.4044641956900135\n",
      "2.108877608288165\n",
      "2.080275619878196\n",
      "2.2152176743155745\n",
      "2.297922363056342\n",
      "2.2094620704036583\n",
      "1.874726998886678\n",
      "1.847117052680119\n",
      "1.2218927843772265\n",
      "1.1532966044960986\n",
      "1.2889506112352487\n",
      "1.3584307440997216\n",
      "1.561244560303397\n",
      "1.1852962213514868\n",
      "1.4238745644475186\n",
      "1.3033577555229041\n",
      "1.786587958739695\n",
      "1.785091690020077\n",
      "1.9888087772641363\n",
      "1.6099926084376042\n",
      "2.143030114763649\n",
      "1.9744020379256524\n",
      "1.7917740102433801\n",
      "1.5154240777877128\n",
      "1.8680312450841343\n",
      "1.9129691320639406\n",
      "2.314097620485541\n"
     ]
    },
    {
     "data": {
      "image/png": "[encoded data removed]",
      "text/plain": [
       "<Figure size 432x288 with 1 Axes>"
      ]
     },
     "metadata": {
      "needs_background": "light"
     },
     "output_type": "display_data"
    }
   ],
   "source": [
    "feature = feature1\n",
    "vs_perf_bucket = bucketize_feature(feature, perf1)\n",
    "gl_perf_bccket = bucketize_feature(feature, perf2)\n",
    "fig, ax = plt.subplots()\n",
    "vs_all_percentile = []\n",
    "gl_all_percentile = []\n",
    "xticks =  []\n",
    "for key in sorted(vs_perf_bucket.keys())[1:]:\n",
    "    xticks.append(format(key, '02.2f'))\n",
    "    current_perf = vs_perf_bucket[key]\n",
    "    percentile = compute_percentiel(current_perf)\n",
    "    vs_all_percentile.append(percentile)\n",
    "    current_perf = gl_perf_bccket[key]\n",
    "    percentile = compute_percentiel(current_perf)\n",
    "    gl_all_percentile.append(percentile)\n",
    "ax.boxplot(gl_all_percentile,showfliers=False, patch_artist=True)\n",
    "bp = ax.boxplot(vs_all_percentile,showfliers=False, patch_artist=True)\n",
    "for patch in bp['boxes']:\n",
    "    patch.set(facecolor='r') \n",
    "plt.xticks(np.arange(1, len(vs_all_percentile) + 1), xticks)      \n",
    "plt.show()\n",
    "\n",
    "\n"
   ]
  },
  {
   "cell_type": "code",
   "execution_count": 38,
   "metadata": {},
   "outputs": [
    {
     "name": "stdout",
     "output_type": "stream",
     "text": [
      "0.8366666666666667\n",
      "0.3888888888888889\n",
      "0.33111111111111113\n",
      "0.20333333333333334\n",
      "0.15222222222222223\n",
      "0.21555555555555556\n",
      "0.38\n",
      "0.3188888888888889\n",
      "0.2866666666666667\n",
      "0.15666666666666668\n",
      "0.12555555555555556\n",
      "0.23555555555555555\n",
      "0.19666666666666666\n",
      "0.59\n",
      "0.35\n",
      "0.8277777777777777\n",
      "0.7544444444444445\n",
      "0.8144444444444444\n",
      "0.6933333333333334\n",
      "0.23222222222222222\n",
      "0.10777777777777778\n",
      "0.21555555555555556\n",
      "0.39444444444444443\n",
      "0.13555555555555557\n",
      "0.21444444444444444\n",
      "0.11666666666666667\n",
      "0.47888888888888886\n",
      "0.6188888888888889\n",
      "0.42777777777777776\n",
      "0.35888888888888887\n",
      "0.06555555555555556\n",
      "0.6011111111111112\n",
      "0.7611111111111111\n",
      "0.4866666666666667\n",
      "0.8366666666666667\n",
      "0.3888888888888889\n",
      "0.33111111111111113\n",
      "0.20333333333333334\n",
      "0.15222222222222223\n",
      "0.21555555555555556\n",
      "0.38\n",
      "0.3188888888888889\n",
      "0.2866666666666667\n",
      "0.15666666666666668\n",
      "0.12555555555555556\n",
      "0.23555555555555555\n",
      "0.19666666666666666\n",
      "0.59\n",
      "0.35\n",
      "0.8277777777777777\n",
      "0.7544444444444445\n",
      "0.8144444444444444\n",
      "0.6933333333333334\n",
      "0.23222222222222222\n",
      "0.10777777777777778\n",
      "0.21555555555555556\n",
      "0.39444444444444443\n",
      "0.13555555555555557\n",
      "0.21444444444444444\n",
      "0.11666666666666667\n",
      "0.47888888888888886\n",
      "0.6188888888888889\n",
      "0.42777777777777776\n",
      "0.35888888888888887\n",
      "0.06555555555555556\n",
      "0.6011111111111112\n",
      "0.7611111111111111\n",
      "0.4866666666666667\n"
     ]
    },
    {
     "data": {
      "image/png": "[encoded data removed]",
      "text/plain": [
       "<Figure size 432x288 with 1 Axes>"
      ]
     },
     "metadata": {
      "needs_background": "light"
     },
     "output_type": "display_data"
    }
   ],
   "source": [
    "feature = feature2\n",
    "vs_perf_bucket = bucketize_feature(feature, perf1)\n",
    "gl_perf_bccket = bucketize_feature(feature, perf2)\n",
    "fig, ax = plt.subplots()\n",
    "vs_all_percentile = []\n",
    "gl_all_percentile = []\n",
    "xticks =  []\n",
    "for key in sorted(vs_perf_bucket.keys())[1:]:\n",
    "    xticks.append(format(key, '02.2f'))\n",
    "    current_perf = vs_perf_bucket[key]\n",
    "    percentile = compute_percentiel(current_perf)\n",
    "    vs_all_percentile.append(percentile)\n",
    "    current_perf = gl_perf_bccket[key]\n",
    "    percentile = compute_percentiel(current_perf)\n",
    "    gl_all_percentile.append(percentile)\n",
    "ax.boxplot(gl_all_percentile,showfliers=False, patch_artist=True)\n",
    "# bp = ax.boxplot(vs_all_percentile,showfliers=False, patch_artist=True)\n",
    "for patch in bp['boxes']:\n",
    "    patch.set(facecolor='r') \n",
    "plt.xticks(np.arange(1, len(vs_all_percentile) + 1), xticks)      \n",
    "plt.show()\n",
    "\n"
   ]
  },
  {
   "cell_type": "code",
   "execution_count": 37,
   "metadata": {},
   "outputs": [
    {
     "data": {
      "text/plain": [
       "Text(0, 0.5, 'avg. velocity')"
      ]
     },
     "execution_count": 37,
     "metadata": {},
     "output_type": "execute_result"
    },
    {
     "data": {
      "image/png": "[encoded data removed]",
      "text/plain": [
       "<Figure size 432x288 with 1 Axes>"
      ]
     },
     "metadata": {
      "needs_background": "light"
     },
     "output_type": "display_data"
    }
   ],
   "source": [
    "for i in range(len(feature1)):\n",
    "    if perf1[i] > perf2[i]:\n",
    "        plt.scatter(feature2[i], feature1[i], c = 'r')\n",
    "    if perf1[i] < perf2[i]:\n",
    "        plt.scatter(feature2[i], feature1[i], c = 'b')\n",
    "plt.ylim(1, 3)\n",
    "plt.xlim(0, 1)\n",
    "plt.xlabel('percentage')\n",
    "plt.ylabel('avg. velocity')"
   ]
  },
  {
   "cell_type": "code",
   "execution_count": null,
   "metadata": {},
   "outputs": [],
   "source": []
  }
 ],
 "metadata": {
  "kernelspec": {
   "display_name": "newenv",
   "language": "python",
   "name": "newenv"
  },
  "language_info": {
   "codemirror_mode": {
    "name": "ipython",
    "version": 3
   },
   "file_extension": ".py",
   "mimetype": "text/x-python",
   "name": "python",
   "nbconvert_exporter": "python",
   "pygments_lexer": "ipython3",
   "version": "3.6.9"
  }
 },
 "nbformat": 4,
 "nbformat_minor": 2
}
