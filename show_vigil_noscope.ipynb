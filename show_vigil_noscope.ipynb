{
 "cells": [
  {
   "cell_type": "code",
   "execution_count": 1,
   "metadata": {},
   "outputs": [],
   "source": [
    "path =  '/mnt/data/zhujun/dataset/Youtube/'\n",
    "from PIL import Image\n",
    "import os\n",
    "import numpy as np\n",
    "import sys\n",
    "sys.path.append('../')\n",
    "import matplotlib.pyplot as plt\n",
    "\n",
    "from benchmarking.video import YoutubeVideo\n",
    "from benchmarking.utils.model_utils import eval_single_image\n",
    "from benchmarking.utils.utils import interpolation, compute_f1\n"
   ]
  },
  {
   "cell_type": "code",
   "execution_count": 2,
   "metadata": {},
   "outputs": [],
   "source": [
    "import glob\n",
    "def load_vigil_result(path):\n",
    "    vigil_perf = {}\n",
    "    for file in glob.glob(path + 'results/vigil_e2e_result*.csv'):\n",
    "        if 'with_videosize' not in file:\n",
    "            continue\n",
    "        print(file)\n",
    "        with open(file, 'r') as f:\n",
    "            firstline = f.readline()\n",
    "#             print(firstline)\n",
    "            for line in f:\n",
    "                line_list = line.strip().split(',')\n",
    "                key = line_list[0]\n",
    "                bw = float(line_list[1])\n",
    "                f1 = float(line_list[2])\n",
    "                vigil_perf[key] = (bw, f1)\n",
    "    return vigil_perf"
   ]
  },
  {
   "cell_type": "code",
   "execution_count": 3,
   "metadata": {},
   "outputs": [
    {
     "name": "stdout",
     "output_type": "stream",
     "text": [
      "./vigil/results/vigil_e2e_result_motorway_with_videosize.csv\n",
      "./vigil/results/vigil_e2e_result_nyc_with_videosize.csv\n",
      "./vigil/results/vigil_e2e_result_cropped_crossroad4_2_with_videosize.csv\n",
      "./vigil/results/vigil_e2e_result_driving2_with_videosize.csv\n",
      "./vigil/results/vigil_e2e_result_crossroad_with_videosize.csv\n",
      "./vigil/results/vigil_e2e_result_driving_downtown_with_videosize.csv\n",
      "./vigil/results/vigil_e2e_result_park_with_videosize.csv\n",
      "./vigil/results/vigil_e2e_result_crossroad2_with_videosize.csv\n",
      "./vigil/results/vigil_e2e_result_jp_with_videosize.csv\n",
      "./vigil/results/vigil_e2e_result_crossroad2_night_with_videosize.csv\n",
      "./vigil/results/vigil_e2e_result_lane_split_with_videosize.csv\n",
      "./vigil/results/vigil_e2e_result_russia_with_videosize.csv\n",
      "./vigil/results/vigil_e2e_result_tw_under_bridge_with_videosize.csv\n",
      "./vigil/results/vigil_e2e_result_driving1_with_videosize.csv\n",
      "./vigil/results/vigil_e2e_result_crossroad3_with_videosize.csv\n",
      "./vigil/results/vigil_e2e_result_drift_with_videosize.csv\n",
      "./vigil/results/vigil_e2e_result_tw_road_with_videosize.csv\n",
      "./vigil/results/vigil_e2e_result_tw1_with_videosize.csv\n",
      "./vigil/results/vigil_e2e_result_crossroad4_with_videosize.csv\n",
      "./vigil/results/vigil_e2e_result_cropped_crossroad4_with_videosize.csv\n",
      "./vigil/results/vigil_e2e_result_russia1_with_videosize.csv\n",
      "./vigil/results/vigil_e2e_result_traffic_with_videosize.csv\n",
      "./vigil/results/vigil_e2e_result_highway_with_videosize.csv\n"
     ]
    }
   ],
   "source": [
    "vigil_perf = load_vigil_result('./vigil/')\n"
   ]
  },
  {
   "cell_type": "code",
   "execution_count": 4,
   "metadata": {},
   "outputs": [],
   "source": [
    "# def load_noscope_result(path):\n",
    "#     noscope_perf = {}\n",
    "#     for file in glob.glob(path + 'Noscope_e2e*.csv'):\n",
    "#         if 'with_frame_diff' not in file:\n",
    "#             continue\n",
    "#         print(file)\n",
    "#         if file == './noscope/Noscope_e2e_result_crossroad2_night_with_frame_diff.csv':\n",
    "#             continue\n",
    "#         if file == './noscope/Noscope_e2e_result_drift_with_frame_diff.csv':\n",
    "#             continue\n",
    "#         if file == './noscope/Noscope_e2e_result_driving2_with_frame_diff.csv':\n",
    "#             continue\n",
    "#         with open(file, 'r') as f:\n",
    "#             f.readline()\n",
    "#             for line in f:\n",
    "#                 line_list = line.strip().split(',')\n",
    "#                 key = line_list[0]\n",
    "#                 bw = float(line_list[3])\n",
    "#                 f1 = float(line_list[2])\n",
    "#                 noscope_perf[key] = (bw, f1)                \n",
    "#     return noscope_perf\n",
    "\n",
    "def load_noscope_result(path):\n",
    "    # only profile on first segment\n",
    "    noscope_perf = {}\n",
    "    file = './noscope/Noscope_e2e_result_with_frame_diff_allvideo_profile_once.csv'\n",
    "    with open(file, 'r') as f:\n",
    "        f.readline()\n",
    "        for line in f:\n",
    "            line_list = line.strip().split(',')\n",
    "            key = line_list[0]\n",
    "            bw = float(line_list[4])\n",
    "            f1 = float(line_list[3])\n",
    "            noscope_perf[key] = (bw, f1)                \n",
    "    return noscope_perf\n"
   ]
  },
  {
   "cell_type": "code",
   "execution_count": 5,
   "metadata": {},
   "outputs": [],
   "source": [
    "noscope_perf = load_noscope_result('./noscope/')"
   ]
  },
  {
   "cell_type": "code",
   "execution_count": 6,
   "metadata": {},
   "outputs": [
    {
     "name": "stdout",
     "output_type": "stream",
     "text": [
      "crossroad2_night_5 (3.9954905580653928, 0.9516441005802707) (14.2693288731354, 0.8836424957841483)\n",
      "crossroad2_night_23 (5.54896310627444, 1.0) (27.845656087767782, 0.14634146341463414)\n",
      "drift_26 (6.302340343952938, 0.8857142857142857) (14.326363826489846, 0.8117647058823529)\n",
      "driving1_23 (1.042210134040002, 0.6258992805755396) (1.5231367299814915, 0.5876543209876544)\n",
      "driving2_2 (1.1397509098479264, 1.0) (1.6146927877530035, 0.037037037037037035)\n",
      "driving2_12 (1.680722951415499, 0.9781818181818182) (1.744219570627032, 0.9093851132686084)\n",
      "driving2_21 (1.0917791493772075, 0.6666666666666666) (1.958919321376208, 0.45901639344262296)\n",
      "driving2_32 (1.2757403027045497, 0.8292682926829268) (1.4304734644687203, 0.7853107344632768)\n",
      "driving2_34 (1.1461923327167, 0.9487179487179489) (1.8706557902194063, 0.8080808080808081)\n",
      "driving2_37 (1.18489662416607, 0.9122807017543859) (2.0129201471342633, 0.6458333333333334)\n",
      "park_0 (0.7244358188637692, 0.8172757475083057) (0.7430819575475959, 0.3294392523364486)\n",
      "park_11 (0.8842278887879113, 0.9245283018867925) (0.9193978795328471, 0.24788732394366197)\n",
      "park_20 (0.7827921340508048, 0.8571428571428572) (0.7876072835577047, 0.2862985685071575)\n",
      "park_24 (0.6546263317838213, 0.6666666666666667) (1.033659637936404, 0.3537414965986395)\n",
      "park_30 (0.8867702592362163, 0.8823529411764706) (0.9165108667344756, 0.5194805194805194)\n"
     ]
    },
    {
     "data": {
      "image/png": "[encoded data removed]",
      "text/plain": [
       "<Figure size 432x288 with 1 Axes>"
      ]
     },
     "metadata": {
      "needs_background": "light"
     },
     "output_type": "display_data"
    }
   ],
   "source": [
    "\n",
    "fig,ax = plt.subplots(1)\n",
    "\n",
    "for key in noscope_perf.keys():\n",
    "    if key not in vigil_perf:\n",
    "        print('{} missing'.format(key))\n",
    "        continue\n",
    "    if noscope_perf[key][1] == 0 or noscope_perf[key][0] == 0:\n",
    "        continue\n",
    "    relative_f1 = vigil_perf[key][1]/noscope_perf[key][1]\n",
    "    relative_bw = vigil_perf[key][0]/noscope_perf[key][0]\n",
    "    if relative_f1 > 1 and relative_bw < 1:\n",
    "        print(key, vigil_perf[key], noscope_perf[key])\n",
    "    if 'cropped' in key:\n",
    "        continue\n",
    "    ax.scatter(relative_bw, relative_f1, c='b')\n",
    "    ax.axhline(y=1, color='r', linestyle='-')\n",
    "    ax.axvline(x=1, color='r', linestyle='-')\n",
    "    ax.set_xlim(0,2)\n",
    "    ax.set_ylim(0,3)"
   ]
  },
  {
   "cell_type": "code",
   "execution_count": null,
   "metadata": {},
   "outputs": [],
   "source": [
    "fig,ax = plt.subplots(1)\n",
    "noscope_perf = {}\n",
    "\n",
    "file1 = './noscope/Noscope_e2e_result_crossroad2_night_with_frame_diff_by_daytimedata.csv'\n",
    "with open(file1, 'r') as f:\n",
    "    f.readline()\n",
    "    for line in f:\n",
    "        line_list = line.strip().split(',')\n",
    "        key = line_list[0]\n",
    "        bw = float(line_list[3])\n",
    "        f1 = float(line_list[2])\n",
    "        noscope_perf[key] = (bw, f1)\n",
    "        ax.scatter(bw, f1, c='b')\n",
    "        \n",
    "file2 = './noscope/Noscope_e2e_result_crossroad2_night_with_frame_diff.csv'\n",
    "with open(file2, 'r') as f:\n",
    "    f.readline()\n",
    "    for line in f:\n",
    "        line_list = line.strip().split(',')\n",
    "        key = line_list[0]\n",
    "        bw = float(line_list[3])\n",
    "        f1 = float(line_list[2])\n",
    "        \n",
    "#         if key in noscope_perf:\n",
    "            \n",
    "#             ax.scatter(bw - noscope_perf[key][0], f1 - noscope_perf[key][1], c='r')\n",
    "        \n",
    "               \n",
    "\n",
    "ax.set_xlabel('Cost (Bandwidth)')\n",
    "ax.set_ylabel('Accuracy (F1)')\n",
    "        \n",
    "        "
   ]
  },
  {
   "cell_type": "code",
   "execution_count": null,
   "metadata": {},
   "outputs": [],
   "source": []
  }
 ],
 "metadata": {
  "kernelspec": {
   "display_name": "newenv",
   "language": "python",
   "name": "newenv"
  },
  "language_info": {
   "codemirror_mode": {
    "name": "ipython",
    "version": 3
   },
   "file_extension": ".py",
   "mimetype": "text/x-python",
   "name": "python",
   "nbconvert_exporter": "python",
   "pygments_lexer": "ipython3",
   "version": "3.6.9"
  }
 },
 "nbformat": 4,
 "nbformat_minor": 2
}
