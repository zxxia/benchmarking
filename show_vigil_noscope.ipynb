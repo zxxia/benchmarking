{
 "cells": [
  {
   "cell_type": "code",
   "execution_count": 1,
   "metadata": {},
   "outputs": [],
   "source": [
    "path =  '/mnt/data/zhujun/dataset/Youtube/'\n",
    "from PIL import Image\n",
    "import os\n",
    "import numpy as np\n",
    "import sys\n",
    "sys.path.append('../')\n",
    "\n",
    "from benchmarking.video import YoutubeVideo\n",
    "from benchmarking.utils.model_utils import eval_single_image\n",
    "from benchmarking.utils.utils import interpolation, compute_f1\n"
   ]
  },
  {
   "cell_type": "code",
   "execution_count": 2,
   "metadata": {},
   "outputs": [],
   "source": [
    "import glob\n",
    "def load_vigil_result(path):\n",
    "    vigil_perf = {}\n",
    "    for file in glob.glob(path + 'results/vigil_e2e_result*.csv'):\n",
    "        if 'with_videosize' not in file:\n",
    "            continue\n",
    "        print(file)\n",
    "        with open(file, 'r') as f:\n",
    "            firstline = f.readline()\n",
    "#             print(firstline)\n",
    "            for line in f:\n",
    "                line_list = line.strip().split(',')\n",
    "                key = line_list[0]\n",
    "                bw = float(line_list[1])\n",
    "                f1 = float(line_list[2])\n",
    "                vigil_perf[key] = (bw, f1)\n",
    "    return vigil_perf"
   ]
  },
  {
   "cell_type": "code",
   "execution_count": 3,
   "metadata": {},
   "outputs": [
    {
     "name": "stdout",
     "output_type": "stream",
     "text": [
      "./vigil/results/vigil_e2e_result_motorway_with_videosize.csv\n",
      "./vigil/results/vigil_e2e_result_nyc_with_videosize.csv\n",
      "./vigil/results/vigil_e2e_result_cropped_crossroad4_2_with_videosize.csv\n",
      "./vigil/results/vigil_e2e_result_driving2_with_videosize.csv\n",
      "./vigil/results/vigil_e2e_result_crossroad_with_videosize.csv\n",
      "./vigil/results/vigil_e2e_result_driving_downtown_with_videosize.csv\n",
      "./vigil/results/vigil_e2e_result_park_with_videosize.csv\n",
      "./vigil/results/vigil_e2e_result_crossroad2_with_videosize.csv\n",
      "./vigil/results/vigil_e2e_result_jp_with_videosize.csv\n",
      "./vigil/results/vigil_e2e_result_lane_split_with_videosize.csv\n",
      "./vigil/results/vigil_e2e_result_russia_with_videosize.csv\n",
      "./vigil/results/vigil_e2e_result_tw_under_bridge_with_videosize.csv\n",
      "./vigil/results/vigil_e2e_result_driving1_with_videosize.csv\n",
      "./vigil/results/vigil_e2e_result_crossroad3_with_videosize.csv\n",
      "./vigil/results/vigil_e2e_result_drift_with_videosize.csv\n",
      "./vigil/results/vigil_e2e_result_tw_road_with_videosize.csv\n",
      "./vigil/results/vigil_e2e_result_tw1_with_videosize.csv\n",
      "./vigil/results/vigil_e2e_result_crossroad4_with_videosize.csv\n",
      "./vigil/results/vigil_e2e_result_cropped_crossroad4_with_videosize.csv\n",
      "./vigil/results/vigil_e2e_result_russia1_with_videosize.csv\n",
      "./vigil/results/vigil_e2e_result_traffic_with_videosize.csv\n",
      "./vigil/results/vigil_e2e_result_highway_with_videosize.csv\n"
     ]
    }
   ],
   "source": [
    "vigil_perf = load_vigil_result('./vigil/')\n"
   ]
  },
  {
   "cell_type": "code",
   "execution_count": 4,
   "metadata": {},
   "outputs": [],
   "source": [
    "def load_noscope_result(path):\n",
    "    noscope_perf = {}\n",
    "    for file in glob.glob(path + 'Noscope_e2e*.csv'):\n",
    "        if 'with_frame_diff' not in file:\n",
    "            continue\n",
    "        print(file)\n",
    "        with open(file, 'r') as f:\n",
    "            f.readline()\n",
    "            for line in f:\n",
    "                line_list = line.strip().split(',')\n",
    "                key = line_list[0]\n",
    "                bw = float(line_list[3])\n",
    "                f1 = float(line_list[2])\n",
    "                noscope_perf[key] = (bw, f1)                \n",
    "    return noscope_perf"
   ]
  },
  {
   "cell_type": "code",
   "execution_count": 5,
   "metadata": {},
   "outputs": [
    {
     "name": "stdout",
     "output_type": "stream",
     "text": [
      "./noscope/Noscope_e2e_result_driving2_with_frame_diff.csv\n",
      "./noscope/Noscope_e2e_result_crossroad4_with_frame_diff.csv\n",
      "./noscope/Noscope_e2e_result_crossroad3_with_frame_diff.csv\n",
      "./noscope/Noscope_e2e_result_cropped_crossroad4_with_frame_diff.csv\n",
      "./noscope/Noscope_e2e_result_crossroad_with_frame_diff.csv\n",
      "./noscope/Noscope_e2e_result_driving1_with_frame_diff.csv\n",
      "./noscope/Noscope_e2e_result_drift_with_frame_diff.csv\n",
      "./noscope/Noscope_e2e_result_highway_with_frame_diff.csv\n",
      "./noscope/Noscope_e2e_result_driving_downtown_with_frame_diff.csv\n",
      "./noscope/Noscope_e2e_result_cropped_crossroad4_2_with_frame_diff.csv\n"
     ]
    }
   ],
   "source": [
    "noscope_perf = load_noscope_result('./noscope/')"
   ]
  },
  {
   "cell_type": "code",
   "execution_count": 7,
   "metadata": {},
   "outputs": [
    {
     "name": "stdout",
     "output_type": "stream",
     "text": [
      "driving2_37 (1.18489662416607, 0.9122807017543859) (1.3936614240549863, 0.8518518518518519)\n",
      "drift_3 (5.505393174500827, 0.7449664429530202) (11.285041852028609, 0.6355140186915889)\n",
      "drift_7 (5.970699900697882, 0.6476190476190476) (11.351120717792687, 0.3137254901960784)\n",
      "drift_9 (4.966108758322937, 0.625) (9.411093129212967, 0.5899280575539568)\n",
      "drift_11 (5.596192714048523, 0.7053571428571429) (11.934705074657735, 0.7011494252873562)\n",
      "drift_16 (5.605683829257491, 0.6106870229007634) (10.998909609647331, 0.5076923076923077)\n",
      "drift_24 (5.13661002597806, 0.5910290237467019) (9.257676303850614, 0.5833333333333334)\n",
      "drift_26 (6.302340343952938, 0.8857142857142857) (14.155906965395568, 0.6492146596858638)\n",
      "drift_31 (5.8395417263252005, 0.5662650602409638) (11.32906155198509, 0.38024691358024687)\n",
      "drift_34 (6.185005146611803, 0.6216216216216215) (13.540969187596856, 0.5550660792951542)\n"
     ]
    },
    {
     "data": {
      "image/png": "[encoded data removed]",
      "text/plain": [
       "<Figure size 432x288 with 1 Axes>"
      ]
     },
     "metadata": {
      "needs_background": "light"
     },
     "output_type": "display_data"
    }
   ],
   "source": [
    "import matplotlib.pyplot as plt\n",
    "\n",
    "fig,ax = plt.subplots(1)\n",
    "\n",
    "for key in noscope_perf.keys():\n",
    "    if key not in vigil_perf:\n",
    "        print('{} missing'.format(key))\n",
    "        continue\n",
    "    if noscope_perf[key][1] == 0 or noscope_perf[key][0] == 0:\n",
    "        continue\n",
    "    relative_f1 = vigil_perf[key][1]/noscope_perf[key][1]\n",
    "    relative_bw = vigil_perf[key][0]/noscope_perf[key][0]\n",
    "    if relative_f1 > 1 and relative_bw < 1:\n",
    "        print(key, vigil_perf[key], noscope_perf[key])\n",
    "    if 'cropped' in key:\n",
    "        continue\n",
    "    ax.scatter(relative_bw, relative_f1, c='b')\n",
    "    ax.axhline(y=1, color='r', linestyle='-')\n",
    "    ax.axvline(x=1, color='r', linestyle='-')\n",
    "    ax.set_xlim(0,2)\n",
    "    ax.set_ylim(0,2)"
   ]
  },
  {
   "cell_type": "code",
   "execution_count": null,
   "metadata": {},
   "outputs": [],
   "source": []
  },
  {
   "cell_type": "code",
   "execution_count": null,
   "metadata": {},
   "outputs": [],
   "source": []
  }
 ],
 "metadata": {
  "kernelspec": {
   "display_name": "newenv",
   "language": "python",
   "name": "newenv"
  },
  "language_info": {
   "codemirror_mode": {
    "name": "ipython",
    "version": 3
   },
   "file_extension": ".py",
   "mimetype": "text/x-python",
   "name": "python",
   "nbconvert_exporter": "python",
   "pygments_lexer": "ipython3",
   "version": "3.6.9"
  }
 },
 "nbformat": 4,
 "nbformat_minor": 2
}
