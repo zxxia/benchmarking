{
 "cells": [
  {
   "cell_type": "code",
   "execution_count": 2,
   "metadata": {},
   "outputs": [],
   "source": [
    "path =  '/mnt/data/zhujun/dataset/Youtube/'\n",
    "from PIL import Image\n",
    "import os\n",
    "import numpy as np\n",
    "import sys\n",
    "sys.path.append('../')\n",
    "\n",
    "from benchmarking.video import YoutubeVideo\n",
    "from benchmarking.utils.model_utils import eval_single_image\n",
    "from benchmarking.utils.utils import interpolation, compute_f1\n"
   ]
  },
  {
   "cell_type": "code",
   "execution_count": 8,
   "metadata": {},
   "outputs": [],
   "source": [
    "import glob\n",
    "def load_vigil_result(path):\n",
    "    vigil_perf = {}\n",
    "    for file in glob.glob(path + 'vigil_e2e_result*.csv'):\n",
    "        with open(file, 'r') as f:\n",
    "            f.readline()\n",
    "            for line in f:\n",
    "                line_list = line.strip().split(',')\n",
    "                key = line_list[0]\n",
    "                bw = float(line_list[1])\n",
    "                f1 = float(line_list[2])\n",
    "                vigil_perf[key] = (bw, f1)\n",
    "    return vigil_perf"
   ]
  },
  {
   "cell_type": "code",
   "execution_count": 11,
   "metadata": {},
   "outputs": [],
   "source": [
    "vigil_perf = load_vigil_result('./vigil/')\n"
   ]
  },
  {
   "cell_type": "code",
   "execution_count": 15,
   "metadata": {},
   "outputs": [],
   "source": [
    "def load_noscope_result(path):\n",
    "    noscope_perf = {}\n",
    "    for file in glob.glob(path + 'Noscope_e2e*.csv'):\n",
    "        if 'with_frame_diff' in file:\n",
    "            continue\n",
    "        with open(file, 'r') as f:\n",
    "            f.readline()\n",
    "            for line in f:\n",
    "                line_list = line.strip().split(',')\n",
    "                key = line_list[0]\n",
    "                bw = float(line_list[2])\n",
    "                f1 = float(line_list[3])\n",
    "                noscope_perf[key] = (bw, f1)                \n",
    "    return noscope_perf"
   ]
  },
  {
   "cell_type": "code",
   "execution_count": 16,
   "metadata": {},
   "outputs": [],
   "source": [
    "noscope_perf = load_noscope_result('./noscope/')"
   ]
  },
  {
   "cell_type": "code",
   "execution_count": 26,
   "metadata": {},
   "outputs": [
    {
     "data": {
      "image/png": "[encoded data removed]",
      "text/plain": [
       "<Figure size 432x288 with 1 Axes>"
      ]
     },
     "metadata": {
      "needs_background": "light"
     },
     "output_type": "display_data"
    }
   ],
   "source": [
    "import matplotlib.pyplot as plt\n",
    "\n",
    "fig,ax = plt.subplots(1)\n",
    "\n",
    "for key in noscope_perf.keys():\n",
    "    if key not in vigil_perf:\n",
    "        print('{} missing'.format(key))\n",
    "        continue\n",
    "    if noscope_perf[key][1] == 0 or noscope_perf[key][0] == 0:\n",
    "        continue\n",
    "    relative_f1 = vigil_perf[key][1]/noscope_perf[key][1]\n",
    "    relative_bw = vigil_perf[key][0]/noscope_perf[key][0]\n",
    "    ax.scatter(relative_bw, relative_f1, c='b')\n",
    "    ax.axhline(y=1, color='r', linestyle='-')\n",
    "    ax.axvline(x=1, color='r', linestyle='-')\n"
   ]
  },
  {
   "cell_type": "code",
   "execution_count": null,
   "metadata": {},
   "outputs": [],
   "source": []
  }
 ],
 "metadata": {
  "kernelspec": {
   "display_name": "newenv",
   "language": "python",
   "name": "newenv"
  },
  "language_info": {
   "codemirror_mode": {
    "name": "ipython",
    "version": 3
   },
   "file_extension": ".py",
   "mimetype": "text/x-python",
   "name": "python",
   "nbconvert_exporter": "python",
   "pygments_lexer": "ipython3",
   "version": "3.6.9"
  }
 },
 "nbformat": 4,
 "nbformat_minor": 2
}
